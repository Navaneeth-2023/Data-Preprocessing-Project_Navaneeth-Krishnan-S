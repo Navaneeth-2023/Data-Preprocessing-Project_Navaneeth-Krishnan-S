{
 "cells": [
  {
   "cell_type": "code",
   "execution_count": 1,
   "id": "6e332721",
   "metadata": {},
   "outputs": [],
   "source": [
    "import pandas as pd\n",
    "import numpy as np\n",
    "import matplotlib.pyplot as plt\n",
    "import seaborn as sns"
   ]
  },
  {
   "cell_type": "markdown",
   "id": "dc4c20d2",
   "metadata": {},
   "source": [
    "### Data Exploration "
   ]
  },
  {
   "cell_type": "code",
   "execution_count": 2,
   "id": "ababa329",
   "metadata": {},
   "outputs": [
    {
     "data": {
      "text/html": [
       "<div>\n",
       "<style scoped>\n",
       "    .dataframe tbody tr th:only-of-type {\n",
       "        vertical-align: middle;\n",
       "    }\n",
       "\n",
       "    .dataframe tbody tr th {\n",
       "        vertical-align: top;\n",
       "    }\n",
       "\n",
       "    .dataframe thead th {\n",
       "        text-align: right;\n",
       "    }\n",
       "</style>\n",
       "<table border=\"1\" class=\"dataframe\">\n",
       "  <thead>\n",
       "    <tr style=\"text-align: right;\">\n",
       "      <th></th>\n",
       "      <th>Company</th>\n",
       "      <th>Age</th>\n",
       "      <th>Salary</th>\n",
       "      <th>Place</th>\n",
       "      <th>Country</th>\n",
       "      <th>Gender</th>\n",
       "    </tr>\n",
       "  </thead>\n",
       "  <tbody>\n",
       "    <tr>\n",
       "      <th>0</th>\n",
       "      <td>TCS</td>\n",
       "      <td>20.0</td>\n",
       "      <td>NaN</td>\n",
       "      <td>Chennai</td>\n",
       "      <td>India</td>\n",
       "      <td>0</td>\n",
       "    </tr>\n",
       "    <tr>\n",
       "      <th>1</th>\n",
       "      <td>Infosys</td>\n",
       "      <td>30.0</td>\n",
       "      <td>NaN</td>\n",
       "      <td>Mumbai</td>\n",
       "      <td>India</td>\n",
       "      <td>0</td>\n",
       "    </tr>\n",
       "    <tr>\n",
       "      <th>2</th>\n",
       "      <td>TCS</td>\n",
       "      <td>35.0</td>\n",
       "      <td>2300.0</td>\n",
       "      <td>Calcutta</td>\n",
       "      <td>India</td>\n",
       "      <td>0</td>\n",
       "    </tr>\n",
       "    <tr>\n",
       "      <th>3</th>\n",
       "      <td>Infosys</td>\n",
       "      <td>40.0</td>\n",
       "      <td>3000.0</td>\n",
       "      <td>Delhi</td>\n",
       "      <td>India</td>\n",
       "      <td>0</td>\n",
       "    </tr>\n",
       "    <tr>\n",
       "      <th>4</th>\n",
       "      <td>TCS</td>\n",
       "      <td>23.0</td>\n",
       "      <td>4000.0</td>\n",
       "      <td>Mumbai</td>\n",
       "      <td>India</td>\n",
       "      <td>0</td>\n",
       "    </tr>\n",
       "    <tr>\n",
       "      <th>...</th>\n",
       "      <td>...</td>\n",
       "      <td>...</td>\n",
       "      <td>...</td>\n",
       "      <td>...</td>\n",
       "      <td>...</td>\n",
       "      <td>...</td>\n",
       "    </tr>\n",
       "    <tr>\n",
       "      <th>143</th>\n",
       "      <td>TCS</td>\n",
       "      <td>33.0</td>\n",
       "      <td>9024.0</td>\n",
       "      <td>Calcutta</td>\n",
       "      <td>India</td>\n",
       "      <td>1</td>\n",
       "    </tr>\n",
       "    <tr>\n",
       "      <th>144</th>\n",
       "      <td>Infosys</td>\n",
       "      <td>22.0</td>\n",
       "      <td>8787.0</td>\n",
       "      <td>Calcutta</td>\n",
       "      <td>India</td>\n",
       "      <td>1</td>\n",
       "    </tr>\n",
       "    <tr>\n",
       "      <th>145</th>\n",
       "      <td>Infosys</td>\n",
       "      <td>44.0</td>\n",
       "      <td>4034.0</td>\n",
       "      <td>Delhi</td>\n",
       "      <td>India</td>\n",
       "      <td>1</td>\n",
       "    </tr>\n",
       "    <tr>\n",
       "      <th>146</th>\n",
       "      <td>TCS</td>\n",
       "      <td>33.0</td>\n",
       "      <td>5034.0</td>\n",
       "      <td>Mumbai</td>\n",
       "      <td>India</td>\n",
       "      <td>1</td>\n",
       "    </tr>\n",
       "    <tr>\n",
       "      <th>147</th>\n",
       "      <td>Infosys</td>\n",
       "      <td>22.0</td>\n",
       "      <td>8202.0</td>\n",
       "      <td>Cochin</td>\n",
       "      <td>India</td>\n",
       "      <td>0</td>\n",
       "    </tr>\n",
       "  </tbody>\n",
       "</table>\n",
       "<p>148 rows × 6 columns</p>\n",
       "</div>"
      ],
      "text/plain": [
       "     Company   Age  Salary     Place Country  Gender\n",
       "0        TCS  20.0     NaN   Chennai   India       0\n",
       "1    Infosys  30.0     NaN    Mumbai   India       0\n",
       "2        TCS  35.0  2300.0  Calcutta   India       0\n",
       "3    Infosys  40.0  3000.0     Delhi   India       0\n",
       "4        TCS  23.0  4000.0    Mumbai   India       0\n",
       "..       ...   ...     ...       ...     ...     ...\n",
       "143      TCS  33.0  9024.0  Calcutta   India       1\n",
       "144  Infosys  22.0  8787.0  Calcutta   India       1\n",
       "145  Infosys  44.0  4034.0     Delhi   India       1\n",
       "146      TCS  33.0  5034.0    Mumbai   India       1\n",
       "147  Infosys  22.0  8202.0    Cochin   India       0\n",
       "\n",
       "[148 rows x 6 columns]"
      ]
     },
     "execution_count": 2,
     "metadata": {},
     "output_type": "execute_result"
    }
   ],
   "source": [
    "df = pd.read_excel(\"C://Users//navs9//Downloads//Employee.xlsx\")\n",
    "df"
   ]
  },
  {
   "cell_type": "code",
   "execution_count": 3,
   "id": "ed47184b",
   "metadata": {},
   "outputs": [
    {
     "name": "stdout",
     "output_type": "stream",
     "text": [
      "<class 'pandas.core.frame.DataFrame'>\n",
      "RangeIndex: 148 entries, 0 to 147\n",
      "Data columns (total 6 columns):\n",
      " #   Column   Non-Null Count  Dtype  \n",
      "---  ------   --------------  -----  \n",
      " 0   Company  140 non-null    object \n",
      " 1   Age      130 non-null    float64\n",
      " 2   Salary   124 non-null    float64\n",
      " 3   Place    134 non-null    object \n",
      " 4   Country  148 non-null    object \n",
      " 5   Gender   148 non-null    int64  \n",
      "dtypes: float64(2), int64(1), object(3)\n",
      "memory usage: 7.1+ KB\n"
     ]
    }
   ],
   "source": [
    "df.info()"
   ]
  },
  {
   "cell_type": "code",
   "execution_count": 4,
   "id": "ac0648b1",
   "metadata": {},
   "outputs": [
    {
     "data": {
      "text/plain": [
       "Company     object\n",
       "Age        float64\n",
       "Salary     float64\n",
       "Place       object\n",
       "Country     object\n",
       "Gender       int64\n",
       "dtype: object"
      ]
     },
     "execution_count": 4,
     "metadata": {},
     "output_type": "execute_result"
    }
   ],
   "source": [
    "df.dtypes"
   ]
  },
  {
   "cell_type": "code",
   "execution_count": 5,
   "id": "b2647b1b",
   "metadata": {},
   "outputs": [
    {
     "data": {
      "text/html": [
       "<div>\n",
       "<style scoped>\n",
       "    .dataframe tbody tr th:only-of-type {\n",
       "        vertical-align: middle;\n",
       "    }\n",
       "\n",
       "    .dataframe tbody tr th {\n",
       "        vertical-align: top;\n",
       "    }\n",
       "\n",
       "    .dataframe thead th {\n",
       "        text-align: right;\n",
       "    }\n",
       "</style>\n",
       "<table border=\"1\" class=\"dataframe\">\n",
       "  <thead>\n",
       "    <tr style=\"text-align: right;\">\n",
       "      <th></th>\n",
       "      <th>Age</th>\n",
       "      <th>Salary</th>\n",
       "      <th>Gender</th>\n",
       "    </tr>\n",
       "  </thead>\n",
       "  <tbody>\n",
       "    <tr>\n",
       "      <th>count</th>\n",
       "      <td>130.000000</td>\n",
       "      <td>124.000000</td>\n",
       "      <td>148.000000</td>\n",
       "    </tr>\n",
       "    <tr>\n",
       "      <th>mean</th>\n",
       "      <td>30.484615</td>\n",
       "      <td>5312.467742</td>\n",
       "      <td>0.222973</td>\n",
       "    </tr>\n",
       "    <tr>\n",
       "      <th>std</th>\n",
       "      <td>11.096640</td>\n",
       "      <td>2573.764683</td>\n",
       "      <td>0.417654</td>\n",
       "    </tr>\n",
       "    <tr>\n",
       "      <th>min</th>\n",
       "      <td>0.000000</td>\n",
       "      <td>1089.000000</td>\n",
       "      <td>0.000000</td>\n",
       "    </tr>\n",
       "    <tr>\n",
       "      <th>25%</th>\n",
       "      <td>22.000000</td>\n",
       "      <td>3030.000000</td>\n",
       "      <td>0.000000</td>\n",
       "    </tr>\n",
       "    <tr>\n",
       "      <th>50%</th>\n",
       "      <td>32.500000</td>\n",
       "      <td>5000.000000</td>\n",
       "      <td>0.000000</td>\n",
       "    </tr>\n",
       "    <tr>\n",
       "      <th>75%</th>\n",
       "      <td>37.750000</td>\n",
       "      <td>8000.000000</td>\n",
       "      <td>0.000000</td>\n",
       "    </tr>\n",
       "    <tr>\n",
       "      <th>max</th>\n",
       "      <td>54.000000</td>\n",
       "      <td>9876.000000</td>\n",
       "      <td>1.000000</td>\n",
       "    </tr>\n",
       "  </tbody>\n",
       "</table>\n",
       "</div>"
      ],
      "text/plain": [
       "              Age       Salary      Gender\n",
       "count  130.000000   124.000000  148.000000\n",
       "mean    30.484615  5312.467742    0.222973\n",
       "std     11.096640  2573.764683    0.417654\n",
       "min      0.000000  1089.000000    0.000000\n",
       "25%     22.000000  3030.000000    0.000000\n",
       "50%     32.500000  5000.000000    0.000000\n",
       "75%     37.750000  8000.000000    0.000000\n",
       "max     54.000000  9876.000000    1.000000"
      ]
     },
     "execution_count": 5,
     "metadata": {},
     "output_type": "execute_result"
    }
   ],
   "source": [
    "df.describe()"
   ]
  },
  {
   "cell_type": "code",
   "execution_count": 6,
   "id": "3554f8db",
   "metadata": {},
   "outputs": [
    {
     "data": {
      "text/plain": [
       "32.5"
      ]
     },
     "execution_count": 6,
     "metadata": {},
     "output_type": "execute_result"
    }
   ],
   "source": [
    "df.Age.median()"
   ]
  },
  {
   "cell_type": "code",
   "execution_count": 7,
   "id": "2ff5a48e",
   "metadata": {},
   "outputs": [
    {
     "data": {
      "text/plain": [
       "5000.0"
      ]
     },
     "execution_count": 7,
     "metadata": {},
     "output_type": "execute_result"
    }
   ],
   "source": [
    "df.Salary.median()"
   ]
  },
  {
   "cell_type": "code",
   "execution_count": 8,
   "id": "26411d61",
   "metadata": {},
   "outputs": [
    {
     "data": {
      "text/plain": [
       "0.0"
      ]
     },
     "execution_count": 8,
     "metadata": {},
     "output_type": "execute_result"
    }
   ],
   "source": [
    "df.Gender.median()"
   ]
  },
  {
   "cell_type": "code",
   "execution_count": 9,
   "id": "2ff0f2f1",
   "metadata": {},
   "outputs": [],
   "source": [
    "# Renaming columns\n",
    "df.rename(columns={'Company': 'Company name', 'Age': 'Age of employee', 'Salary':'Salary of employee','Place':'Place of employee','Country':'Country of employee','Gender':'Gender of employee'}, inplace=True)"
   ]
  },
  {
   "cell_type": "code",
   "execution_count": 10,
   "id": "f54eb5a7",
   "metadata": {},
   "outputs": [
    {
     "data": {
      "text/html": [
       "<div>\n",
       "<style scoped>\n",
       "    .dataframe tbody tr th:only-of-type {\n",
       "        vertical-align: middle;\n",
       "    }\n",
       "\n",
       "    .dataframe tbody tr th {\n",
       "        vertical-align: top;\n",
       "    }\n",
       "\n",
       "    .dataframe thead th {\n",
       "        text-align: right;\n",
       "    }\n",
       "</style>\n",
       "<table border=\"1\" class=\"dataframe\">\n",
       "  <thead>\n",
       "    <tr style=\"text-align: right;\">\n",
       "      <th></th>\n",
       "      <th>Company name</th>\n",
       "      <th>Age of employee</th>\n",
       "      <th>Salary of employee</th>\n",
       "      <th>Place of employee</th>\n",
       "      <th>Country of employee</th>\n",
       "      <th>Gender of employee</th>\n",
       "    </tr>\n",
       "  </thead>\n",
       "  <tbody>\n",
       "    <tr>\n",
       "      <th>0</th>\n",
       "      <td>TCS</td>\n",
       "      <td>20.0</td>\n",
       "      <td>NaN</td>\n",
       "      <td>Chennai</td>\n",
       "      <td>India</td>\n",
       "      <td>0</td>\n",
       "    </tr>\n",
       "    <tr>\n",
       "      <th>1</th>\n",
       "      <td>Infosys</td>\n",
       "      <td>30.0</td>\n",
       "      <td>NaN</td>\n",
       "      <td>Mumbai</td>\n",
       "      <td>India</td>\n",
       "      <td>0</td>\n",
       "    </tr>\n",
       "    <tr>\n",
       "      <th>2</th>\n",
       "      <td>TCS</td>\n",
       "      <td>35.0</td>\n",
       "      <td>2300.0</td>\n",
       "      <td>Calcutta</td>\n",
       "      <td>India</td>\n",
       "      <td>0</td>\n",
       "    </tr>\n",
       "    <tr>\n",
       "      <th>3</th>\n",
       "      <td>Infosys</td>\n",
       "      <td>40.0</td>\n",
       "      <td>3000.0</td>\n",
       "      <td>Delhi</td>\n",
       "      <td>India</td>\n",
       "      <td>0</td>\n",
       "    </tr>\n",
       "    <tr>\n",
       "      <th>4</th>\n",
       "      <td>TCS</td>\n",
       "      <td>23.0</td>\n",
       "      <td>4000.0</td>\n",
       "      <td>Mumbai</td>\n",
       "      <td>India</td>\n",
       "      <td>0</td>\n",
       "    </tr>\n",
       "    <tr>\n",
       "      <th>...</th>\n",
       "      <td>...</td>\n",
       "      <td>...</td>\n",
       "      <td>...</td>\n",
       "      <td>...</td>\n",
       "      <td>...</td>\n",
       "      <td>...</td>\n",
       "    </tr>\n",
       "    <tr>\n",
       "      <th>143</th>\n",
       "      <td>TCS</td>\n",
       "      <td>33.0</td>\n",
       "      <td>9024.0</td>\n",
       "      <td>Calcutta</td>\n",
       "      <td>India</td>\n",
       "      <td>1</td>\n",
       "    </tr>\n",
       "    <tr>\n",
       "      <th>144</th>\n",
       "      <td>Infosys</td>\n",
       "      <td>22.0</td>\n",
       "      <td>8787.0</td>\n",
       "      <td>Calcutta</td>\n",
       "      <td>India</td>\n",
       "      <td>1</td>\n",
       "    </tr>\n",
       "    <tr>\n",
       "      <th>145</th>\n",
       "      <td>Infosys</td>\n",
       "      <td>44.0</td>\n",
       "      <td>4034.0</td>\n",
       "      <td>Delhi</td>\n",
       "      <td>India</td>\n",
       "      <td>1</td>\n",
       "    </tr>\n",
       "    <tr>\n",
       "      <th>146</th>\n",
       "      <td>TCS</td>\n",
       "      <td>33.0</td>\n",
       "      <td>5034.0</td>\n",
       "      <td>Mumbai</td>\n",
       "      <td>India</td>\n",
       "      <td>1</td>\n",
       "    </tr>\n",
       "    <tr>\n",
       "      <th>147</th>\n",
       "      <td>Infosys</td>\n",
       "      <td>22.0</td>\n",
       "      <td>8202.0</td>\n",
       "      <td>Cochin</td>\n",
       "      <td>India</td>\n",
       "      <td>0</td>\n",
       "    </tr>\n",
       "  </tbody>\n",
       "</table>\n",
       "<p>148 rows × 6 columns</p>\n",
       "</div>"
      ],
      "text/plain": [
       "    Company name  Age of employee  Salary of employee Place of employee   \n",
       "0            TCS             20.0                 NaN           Chennai  \\\n",
       "1        Infosys             30.0                 NaN            Mumbai   \n",
       "2            TCS             35.0              2300.0          Calcutta   \n",
       "3        Infosys             40.0              3000.0             Delhi   \n",
       "4            TCS             23.0              4000.0            Mumbai   \n",
       "..           ...              ...                 ...               ...   \n",
       "143          TCS             33.0              9024.0          Calcutta   \n",
       "144      Infosys             22.0              8787.0          Calcutta   \n",
       "145      Infosys             44.0              4034.0             Delhi   \n",
       "146          TCS             33.0              5034.0            Mumbai   \n",
       "147      Infosys             22.0              8202.0            Cochin   \n",
       "\n",
       "    Country of employee  Gender of employee  \n",
       "0                 India                   0  \n",
       "1                 India                   0  \n",
       "2                 India                   0  \n",
       "3                 India                   0  \n",
       "4                 India                   0  \n",
       "..                  ...                 ...  \n",
       "143               India                   1  \n",
       "144               India                   1  \n",
       "145               India                   1  \n",
       "146               India                   1  \n",
       "147               India                   0  \n",
       "\n",
       "[148 rows x 6 columns]"
      ]
     },
     "execution_count": 10,
     "metadata": {},
     "output_type": "execute_result"
    }
   ],
   "source": [
    "df"
   ]
  },
  {
   "cell_type": "code",
   "execution_count": 11,
   "id": "6529316d",
   "metadata": {},
   "outputs": [
    {
     "data": {
      "text/plain": [
       "Company name            6\n",
       "Age of employee        29\n",
       "Salary of employee     40\n",
       "Place of employee      11\n",
       "Country of employee     1\n",
       "Gender of employee      2\n",
       "dtype: int64"
      ]
     },
     "execution_count": 11,
     "metadata": {},
     "output_type": "execute_result"
    }
   ],
   "source": [
    "#unique values in each column\n",
    "n=df.nunique()\n",
    "n"
   ]
  },
  {
   "cell_type": "code",
   "execution_count": 12,
   "id": "3c435a42",
   "metadata": {},
   "outputs": [],
   "source": [
    "#finding length of unique values in each column"
   ]
  },
  {
   "cell_type": "code",
   "execution_count": 13,
   "id": "5908bbed",
   "metadata": {},
   "outputs": [
    {
     "data": {
      "text/plain": [
       "array(['TCS', 'Infosys', 'CTS', nan, 'Tata Consultancy Services',\n",
       "       'Congnizant', 'Infosys Pvt Lmt'], dtype=object)"
      ]
     },
     "execution_count": 13,
     "metadata": {},
     "output_type": "execute_result"
    }
   ],
   "source": [
    "df['Company name'].unique()"
   ]
  },
  {
   "cell_type": "code",
   "execution_count": 14,
   "id": "9cfaa777",
   "metadata": {},
   "outputs": [
    {
     "data": {
      "text/plain": [
       "array([20., 30., 35., 40., 23., nan, 34., 45., 18., 22., 32., 37., 50.,\n",
       "       21., 46., 36., 26., 41., 24., 25., 43., 19., 38., 51., 31., 44.,\n",
       "       33., 17.,  0., 54.])"
      ]
     },
     "execution_count": 14,
     "metadata": {},
     "output_type": "execute_result"
    }
   ],
   "source": [
    "df['Age of employee'].unique()"
   ]
  },
  {
   "cell_type": "code",
   "execution_count": 15,
   "id": "a2188d31",
   "metadata": {},
   "outputs": [
    {
     "data": {
      "text/plain": [
       "array([  nan, 2300., 3000., 4000., 5000., 6000., 7000., 8000., 9000.,\n",
       "       1089., 1234., 3030., 3045., 3184., 4824., 5835., 7084., 8943.,\n",
       "       8345., 9284., 9876., 2034., 7654., 2934., 4034., 5034., 8202.,\n",
       "       9024., 4345., 6544., 6543., 3234., 4324., 5435., 5555., 8787.,\n",
       "       3454., 5654., 5009., 5098., 3033.])"
      ]
     },
     "execution_count": 15,
     "metadata": {},
     "output_type": "execute_result"
    }
   ],
   "source": [
    "df['Salary of employee'].unique()"
   ]
  },
  {
   "cell_type": "code",
   "execution_count": 16,
   "id": "367b9893",
   "metadata": {},
   "outputs": [
    {
     "data": {
      "text/plain": [
       "array(['Chennai', 'Mumbai', 'Calcutta', 'Delhi', 'Podicherry', 'Cochin',\n",
       "       nan, 'Noida', 'Hyderabad', 'Bhopal', 'Nagpur', 'Pune'],\n",
       "      dtype=object)"
      ]
     },
     "execution_count": 16,
     "metadata": {},
     "output_type": "execute_result"
    }
   ],
   "source": [
    "df['Place of employee'].unique()"
   ]
  },
  {
   "cell_type": "code",
   "execution_count": 17,
   "id": "b24dd86d",
   "metadata": {},
   "outputs": [
    {
     "data": {
      "text/plain": [
       "array(['Chennai', 'Mumbai', 'Calcutta', 'Delhi', 'Pondicherry', 'Cochin',\n",
       "       nan, 'Noida', 'Hyderabad', 'Bhopal', 'Nagpur', 'Pune'],\n",
       "      dtype=object)"
      ]
     },
     "execution_count": 17,
     "metadata": {},
     "output_type": "execute_result"
    }
   ],
   "source": [
    "#correcting the spelling\n",
    "df['Place of employee'].replace('Podicherry','Pondicherry',inplace=True)\n",
    "df['Place of employee'].unique()"
   ]
  },
  {
   "cell_type": "code",
   "execution_count": 18,
   "id": "3e22a071",
   "metadata": {},
   "outputs": [
    {
     "data": {
      "text/plain": [
       "array(['India'], dtype=object)"
      ]
     },
     "execution_count": 18,
     "metadata": {},
     "output_type": "execute_result"
    }
   ],
   "source": [
    "df['Country of employee'].unique()"
   ]
  },
  {
   "cell_type": "code",
   "execution_count": 19,
   "id": "1005cb30",
   "metadata": {},
   "outputs": [
    {
     "data": {
      "text/plain": [
       "array([0, 1], dtype=int64)"
      ]
     },
     "execution_count": 19,
     "metadata": {},
     "output_type": "execute_result"
    }
   ],
   "source": [
    "df['Gender of employee'].unique()"
   ]
  },
  {
   "cell_type": "markdown",
   "id": "a1b7bd22",
   "metadata": {},
   "source": [
    "### Data Cleaning"
   ]
  },
  {
   "cell_type": "code",
   "execution_count": 20,
   "id": "705fea2e",
   "metadata": {},
   "outputs": [
    {
     "data": {
      "text/html": [
       "<div>\n",
       "<style scoped>\n",
       "    .dataframe tbody tr th:only-of-type {\n",
       "        vertical-align: middle;\n",
       "    }\n",
       "\n",
       "    .dataframe tbody tr th {\n",
       "        vertical-align: top;\n",
       "    }\n",
       "\n",
       "    .dataframe thead th {\n",
       "        text-align: right;\n",
       "    }\n",
       "</style>\n",
       "<table border=\"1\" class=\"dataframe\">\n",
       "  <thead>\n",
       "    <tr style=\"text-align: right;\">\n",
       "      <th></th>\n",
       "      <th>Company name</th>\n",
       "      <th>Age of employee</th>\n",
       "      <th>Salary of employee</th>\n",
       "      <th>Place of employee</th>\n",
       "      <th>Country of employee</th>\n",
       "      <th>Gender of employee</th>\n",
       "    </tr>\n",
       "  </thead>\n",
       "  <tbody>\n",
       "    <tr>\n",
       "      <th>0</th>\n",
       "      <td>TCS</td>\n",
       "      <td>20.0</td>\n",
       "      <td>NaN</td>\n",
       "      <td>Chennai</td>\n",
       "      <td>India</td>\n",
       "      <td>0</td>\n",
       "    </tr>\n",
       "    <tr>\n",
       "      <th>1</th>\n",
       "      <td>Infosys</td>\n",
       "      <td>30.0</td>\n",
       "      <td>NaN</td>\n",
       "      <td>Mumbai</td>\n",
       "      <td>India</td>\n",
       "      <td>0</td>\n",
       "    </tr>\n",
       "    <tr>\n",
       "      <th>2</th>\n",
       "      <td>TCS</td>\n",
       "      <td>35.0</td>\n",
       "      <td>2300.0</td>\n",
       "      <td>Calcutta</td>\n",
       "      <td>India</td>\n",
       "      <td>0</td>\n",
       "    </tr>\n",
       "    <tr>\n",
       "      <th>3</th>\n",
       "      <td>Infosys</td>\n",
       "      <td>40.0</td>\n",
       "      <td>3000.0</td>\n",
       "      <td>Delhi</td>\n",
       "      <td>India</td>\n",
       "      <td>0</td>\n",
       "    </tr>\n",
       "    <tr>\n",
       "      <th>4</th>\n",
       "      <td>TCS</td>\n",
       "      <td>23.0</td>\n",
       "      <td>4000.0</td>\n",
       "      <td>Mumbai</td>\n",
       "      <td>India</td>\n",
       "      <td>0</td>\n",
       "    </tr>\n",
       "    <tr>\n",
       "      <th>...</th>\n",
       "      <td>...</td>\n",
       "      <td>...</td>\n",
       "      <td>...</td>\n",
       "      <td>...</td>\n",
       "      <td>...</td>\n",
       "      <td>...</td>\n",
       "    </tr>\n",
       "    <tr>\n",
       "      <th>142</th>\n",
       "      <td>Infosys Pvt Lmt</td>\n",
       "      <td>22.0</td>\n",
       "      <td>8202.0</td>\n",
       "      <td>Mumbai</td>\n",
       "      <td>India</td>\n",
       "      <td>0</td>\n",
       "    </tr>\n",
       "    <tr>\n",
       "      <th>143</th>\n",
       "      <td>TCS</td>\n",
       "      <td>33.0</td>\n",
       "      <td>9024.0</td>\n",
       "      <td>Calcutta</td>\n",
       "      <td>India</td>\n",
       "      <td>1</td>\n",
       "    </tr>\n",
       "    <tr>\n",
       "      <th>145</th>\n",
       "      <td>Infosys</td>\n",
       "      <td>44.0</td>\n",
       "      <td>4034.0</td>\n",
       "      <td>Delhi</td>\n",
       "      <td>India</td>\n",
       "      <td>1</td>\n",
       "    </tr>\n",
       "    <tr>\n",
       "      <th>146</th>\n",
       "      <td>TCS</td>\n",
       "      <td>33.0</td>\n",
       "      <td>5034.0</td>\n",
       "      <td>Mumbai</td>\n",
       "      <td>India</td>\n",
       "      <td>1</td>\n",
       "    </tr>\n",
       "    <tr>\n",
       "      <th>147</th>\n",
       "      <td>Infosys</td>\n",
       "      <td>22.0</td>\n",
       "      <td>8202.0</td>\n",
       "      <td>Cochin</td>\n",
       "      <td>India</td>\n",
       "      <td>0</td>\n",
       "    </tr>\n",
       "  </tbody>\n",
       "</table>\n",
       "<p>144 rows × 6 columns</p>\n",
       "</div>"
      ],
      "text/plain": [
       "        Company name  Age of employee  Salary of employee Place of employee   \n",
       "0                TCS             20.0                 NaN           Chennai  \\\n",
       "1            Infosys             30.0                 NaN            Mumbai   \n",
       "2                TCS             35.0              2300.0          Calcutta   \n",
       "3            Infosys             40.0              3000.0             Delhi   \n",
       "4                TCS             23.0              4000.0            Mumbai   \n",
       "..               ...              ...                 ...               ...   \n",
       "142  Infosys Pvt Lmt             22.0              8202.0            Mumbai   \n",
       "143              TCS             33.0              9024.0          Calcutta   \n",
       "145          Infosys             44.0              4034.0             Delhi   \n",
       "146              TCS             33.0              5034.0            Mumbai   \n",
       "147          Infosys             22.0              8202.0            Cochin   \n",
       "\n",
       "    Country of employee  Gender of employee  \n",
       "0                 India                   0  \n",
       "1                 India                   0  \n",
       "2                 India                   0  \n",
       "3                 India                   0  \n",
       "4                 India                   0  \n",
       "..                  ...                 ...  \n",
       "142               India                   0  \n",
       "143               India                   1  \n",
       "145               India                   1  \n",
       "146               India                   1  \n",
       "147               India                   0  \n",
       "\n",
       "[144 rows x 6 columns]"
      ]
     },
     "execution_count": 20,
     "metadata": {},
     "output_type": "execute_result"
    }
   ],
   "source": [
    "#deleting duplicate rows\n",
    "df.drop_duplicates(inplace=True)\n",
    "df"
   ]
  },
  {
   "cell_type": "code",
   "execution_count": 21,
   "id": "7bc14f89",
   "metadata": {},
   "outputs": [
    {
     "data": {
      "text/plain": [
       "Company name            8\n",
       "Age of employee        17\n",
       "Salary of employee     23\n",
       "Place of employee      14\n",
       "Country of employee     0\n",
       "Gender of employee      0\n",
       "dtype: int64"
      ]
     },
     "execution_count": 21,
     "metadata": {},
     "output_type": "execute_result"
    }
   ],
   "source": [
    "#Checking null values in each column\n",
    "df.isna().sum()"
   ]
  },
  {
   "cell_type": "code",
   "execution_count": 22,
   "id": "1489baa5",
   "metadata": {},
   "outputs": [
    {
     "data": {
      "text/plain": [
       "Company name            object\n",
       "Age of employee        float64\n",
       "Salary of employee     float64\n",
       "Place of employee       object\n",
       "Country of employee     object\n",
       "Gender of employee       int64\n",
       "dtype: object"
      ]
     },
     "execution_count": 22,
     "metadata": {},
     "output_type": "execute_result"
    }
   ],
   "source": [
    "#The null values in each column should be replaced by any measures of central tendecny. For that outliers and measures \n",
    "#of central tendency are found initially\n",
    "df.dtypes"
   ]
  },
  {
   "cell_type": "code",
   "execution_count": 23,
   "id": "b789c73d",
   "metadata": {},
   "outputs": [],
   "source": [
    "#numerical columns are Age of employee, Salary of employee and Gender of employee. Among them chances of outliers are in \n",
    "#Age of employee and Salary of employee columns\n",
    "#finding outliers in columns Age of employee and Salary of employee columns"
   ]
  },
  {
   "cell_type": "code",
   "execution_count": 24,
   "id": "7d087c1e",
   "metadata": {},
   "outputs": [
    {
     "data": {
      "text/html": [
       "<div>\n",
       "<style scoped>\n",
       "    .dataframe tbody tr th:only-of-type {\n",
       "        vertical-align: middle;\n",
       "    }\n",
       "\n",
       "    .dataframe tbody tr th {\n",
       "        vertical-align: top;\n",
       "    }\n",
       "\n",
       "    .dataframe thead th {\n",
       "        text-align: right;\n",
       "    }\n",
       "</style>\n",
       "<table border=\"1\" class=\"dataframe\">\n",
       "  <thead>\n",
       "    <tr style=\"text-align: right;\">\n",
       "      <th></th>\n",
       "      <th>Age of employee</th>\n",
       "      <th>Salary of employee</th>\n",
       "      <th>Gender of employee</th>\n",
       "    </tr>\n",
       "  </thead>\n",
       "  <tbody>\n",
       "    <tr>\n",
       "      <th>count</th>\n",
       "      <td>127.000000</td>\n",
       "      <td>105.000000</td>\n",
       "      <td>127.000000</td>\n",
       "    </tr>\n",
       "    <tr>\n",
       "      <th>mean</th>\n",
       "      <td>30.527559</td>\n",
       "      <td>5200.142857</td>\n",
       "      <td>0.220472</td>\n",
       "    </tr>\n",
       "    <tr>\n",
       "      <th>std</th>\n",
       "      <td>11.114717</td>\n",
       "      <td>2742.585439</td>\n",
       "      <td>0.416207</td>\n",
       "    </tr>\n",
       "    <tr>\n",
       "      <th>min</th>\n",
       "      <td>0.000000</td>\n",
       "      <td>1089.000000</td>\n",
       "      <td>0.000000</td>\n",
       "    </tr>\n",
       "    <tr>\n",
       "      <th>25%</th>\n",
       "      <td>22.000000</td>\n",
       "      <td>3000.000000</td>\n",
       "      <td>0.000000</td>\n",
       "    </tr>\n",
       "    <tr>\n",
       "      <th>50%</th>\n",
       "      <td>33.000000</td>\n",
       "      <td>4824.000000</td>\n",
       "      <td>0.000000</td>\n",
       "    </tr>\n",
       "    <tr>\n",
       "      <th>75%</th>\n",
       "      <td>37.500000</td>\n",
       "      <td>8202.000000</td>\n",
       "      <td>0.000000</td>\n",
       "    </tr>\n",
       "    <tr>\n",
       "      <th>max</th>\n",
       "      <td>54.000000</td>\n",
       "      <td>9876.000000</td>\n",
       "      <td>1.000000</td>\n",
       "    </tr>\n",
       "  </tbody>\n",
       "</table>\n",
       "</div>"
      ],
      "text/plain": [
       "       Age of employee  Salary of employee  Gender of employee\n",
       "count       127.000000          105.000000          127.000000\n",
       "mean         30.527559         5200.142857            0.220472\n",
       "std          11.114717         2742.585439            0.416207\n",
       "min           0.000000         1089.000000            0.000000\n",
       "25%          22.000000         3000.000000            0.000000\n",
       "50%          33.000000         4824.000000            0.000000\n",
       "75%          37.500000         8202.000000            0.000000\n",
       "max          54.000000         9876.000000            1.000000"
      ]
     },
     "execution_count": 24,
     "metadata": {},
     "output_type": "execute_result"
    }
   ],
   "source": [
    "a=df['Age of employee'].quantile(0.25)\n",
    "b=df['Age of employee'].quantile(0.75)\n",
    "iqr = b - a\n",
    "iqr_lower_bound = a - (1.5 * iqr)\n",
    "iqr_upper_bound = b + (1.5 * iqr)\n",
    "df1=df[(df['Age of employee']<iqr_upper_bound)&(df['Age of employee']>iqr_lower_bound)]\n",
    "#df1 is new data frame after removing outliers\n",
    "df1.describe()"
   ]
  },
  {
   "cell_type": "code",
   "execution_count": 25,
   "id": "92fe4241",
   "metadata": {},
   "outputs": [
    {
     "data": {
      "text/plain": [
       "33.0"
      ]
     },
     "execution_count": 25,
     "metadata": {},
     "output_type": "execute_result"
    }
   ],
   "source": [
    "df1['Age of employee'].median()"
   ]
  },
  {
   "cell_type": "code",
   "execution_count": 26,
   "id": "f44f2d99",
   "metadata": {},
   "outputs": [
    {
     "data": {
      "text/plain": [
       "0    22.0\n",
       "Name: Age of employee, dtype: float64"
      ]
     },
     "execution_count": 26,
     "metadata": {},
     "output_type": "execute_result"
    }
   ],
   "source": [
    "df1['Age of employee'].mode()"
   ]
  },
  {
   "cell_type": "code",
   "execution_count": 27,
   "id": "c81b1c64",
   "metadata": {},
   "outputs": [
    {
     "data": {
      "text/plain": [
       "<Axes: xlabel='Age of employee', ylabel='Count'>"
      ]
     },
     "execution_count": 27,
     "metadata": {},
     "output_type": "execute_result"
    },
    {
     "data": {
      "image/png": "[encoded data removed]",
      "text/plain": [
       "<Figure size 640x480 with 1 Axes>"
      ]
     },
     "metadata": {},
     "output_type": "display_data"
    }
   ],
   "source": [
    "# histogram to check normal distribution\n",
    "sns.histplot(df1['Age of employee'], kde = True)"
   ]
  },
  {
   "cell_type": "code",
   "execution_count": 28,
   "id": "2ef1e20f",
   "metadata": {},
   "outputs": [
    {
     "data": {
      "text/plain": [
       "<Axes: xlabel='Age of employee'>"
      ]
     },
     "execution_count": 28,
     "metadata": {},
     "output_type": "execute_result"
    },
    {
     "data": {
      "image/png": "[encoded data removed]",
      "text/plain": [
       "<Figure size 640x480 with 1 Axes>"
      ]
     },
     "metadata": {},
     "output_type": "display_data"
    }
   ],
   "source": [
    "# box plot\n",
    "sns.boxplot(x='Age of employee',data=df1)"
   ]
  },
  {
   "cell_type": "code",
   "execution_count": 29,
   "id": "52890f24",
   "metadata": {},
   "outputs": [
    {
     "data": {
      "text/html": [
       "<div>\n",
       "<style scoped>\n",
       "    .dataframe tbody tr th:only-of-type {\n",
       "        vertical-align: middle;\n",
       "    }\n",
       "\n",
       "    .dataframe tbody tr th {\n",
       "        vertical-align: top;\n",
       "    }\n",
       "\n",
       "    .dataframe thead th {\n",
       "        text-align: right;\n",
       "    }\n",
       "</style>\n",
       "<table border=\"1\" class=\"dataframe\">\n",
       "  <thead>\n",
       "    <tr style=\"text-align: right;\">\n",
       "      <th></th>\n",
       "      <th>Age of employee</th>\n",
       "      <th>Salary of employee</th>\n",
       "      <th>Gender of employee</th>\n",
       "    </tr>\n",
       "  </thead>\n",
       "  <tbody>\n",
       "    <tr>\n",
       "      <th>count</th>\n",
       "      <td>47.000000</td>\n",
       "      <td>63.000000</td>\n",
       "      <td>63.000000</td>\n",
       "    </tr>\n",
       "    <tr>\n",
       "      <th>mean</th>\n",
       "      <td>31.617021</td>\n",
       "      <td>5038.555556</td>\n",
       "      <td>0.174603</td>\n",
       "    </tr>\n",
       "    <tr>\n",
       "      <th>std</th>\n",
       "      <td>12.442132</td>\n",
       "      <td>1510.322255</td>\n",
       "      <td>0.382677</td>\n",
       "    </tr>\n",
       "    <tr>\n",
       "      <th>min</th>\n",
       "      <td>0.000000</td>\n",
       "      <td>3030.000000</td>\n",
       "      <td>0.000000</td>\n",
       "    </tr>\n",
       "    <tr>\n",
       "      <th>25%</th>\n",
       "      <td>23.000000</td>\n",
       "      <td>4000.000000</td>\n",
       "      <td>0.000000</td>\n",
       "    </tr>\n",
       "    <tr>\n",
       "      <th>50%</th>\n",
       "      <td>33.000000</td>\n",
       "      <td>5000.000000</td>\n",
       "      <td>0.000000</td>\n",
       "    </tr>\n",
       "    <tr>\n",
       "      <th>75%</th>\n",
       "      <td>40.500000</td>\n",
       "      <td>6000.000000</td>\n",
       "      <td>0.000000</td>\n",
       "    </tr>\n",
       "    <tr>\n",
       "      <th>max</th>\n",
       "      <td>54.000000</td>\n",
       "      <td>8000.000000</td>\n",
       "      <td>1.000000</td>\n",
       "    </tr>\n",
       "  </tbody>\n",
       "</table>\n",
       "</div>"
      ],
      "text/plain": [
       "       Age of employee  Salary of employee  Gender of employee\n",
       "count        47.000000           63.000000           63.000000\n",
       "mean         31.617021         5038.555556            0.174603\n",
       "std          12.442132         1510.322255            0.382677\n",
       "min           0.000000         3030.000000            0.000000\n",
       "25%          23.000000         4000.000000            0.000000\n",
       "50%          33.000000         5000.000000            0.000000\n",
       "75%          40.500000         6000.000000            0.000000\n",
       "max          54.000000         8000.000000            1.000000"
      ]
     },
     "execution_count": 29,
     "metadata": {},
     "output_type": "execute_result"
    }
   ],
   "source": [
    "c=df['Salary of employee'].quantile(0.25)\n",
    "d=df['Salary of employee'].quantile(0.75)\n",
    "iqr2 = d - c\n",
    "iqr_lower_bound2 = c - (1.5 * iqr)\n",
    "iqr_upper_bound2 = d + (1.5 * iqr)\n",
    "df2=df[(df['Salary of employee']<iqr_upper_bound2)&(df['Salary of employee']>iqr_lower_bound2)]\n",
    "#df2 is new data frame after removing outliers\n",
    "df2.describe()"
   ]
  },
  {
   "cell_type": "code",
   "execution_count": 30,
   "id": "fcad2ef9",
   "metadata": {},
   "outputs": [
    {
     "data": {
      "text/plain": [
       "5000.0"
      ]
     },
     "execution_count": 30,
     "metadata": {},
     "output_type": "execute_result"
    }
   ],
   "source": [
    "df2['Salary of employee'].median()"
   ]
  },
  {
   "cell_type": "code",
   "execution_count": 31,
   "id": "d3928db0",
   "metadata": {},
   "outputs": [
    {
     "data": {
      "text/plain": [
       "0    5000.0\n",
       "Name: Salary of employee, dtype: float64"
      ]
     },
     "execution_count": 31,
     "metadata": {},
     "output_type": "execute_result"
    }
   ],
   "source": [
    "df2['Salary of employee'].mode()"
   ]
  },
  {
   "cell_type": "code",
   "execution_count": 32,
   "id": "b2941564",
   "metadata": {},
   "outputs": [
    {
     "data": {
      "text/plain": [
       "<Axes: xlabel='Salary of employee', ylabel='Count'>"
      ]
     },
     "execution_count": 32,
     "metadata": {},
     "output_type": "execute_result"
    },
    {
     "data": {
      "image/png": "[encoded data removed]",
      "text/plain": [
       "<Figure size 640x480 with 1 Axes>"
      ]
     },
     "metadata": {},
     "output_type": "display_data"
    }
   ],
   "source": [
    "# histogram to check normal distribution\n",
    "sns.histplot(df2['Salary of employee'], kde = True)"
   ]
  },
  {
   "cell_type": "code",
   "execution_count": 33,
   "id": "a8b2cbe0",
   "metadata": {},
   "outputs": [
    {
     "data": {
      "text/plain": [
       "<Axes: xlabel='Salary of employee'>"
      ]
     },
     "execution_count": 33,
     "metadata": {},
     "output_type": "execute_result"
    },
    {
     "data": {
      "image/png": "[encoded data removed]",
      "text/plain": [
       "<Figure size 640x480 with 1 Axes>"
      ]
     },
     "metadata": {},
     "output_type": "display_data"
    }
   ],
   "source": [
    "# box plot\n",
    "sns.boxplot(x='Salary of employee',data=df2)"
   ]
  },
  {
   "cell_type": "code",
   "execution_count": 34,
   "id": "ba7e5b0a",
   "metadata": {},
   "outputs": [
    {
     "data": {
      "text/plain": [
       "0    TCS\n",
       "Name: Company name, dtype: object"
      ]
     },
     "execution_count": 34,
     "metadata": {},
     "output_type": "execute_result"
    }
   ],
   "source": [
    "df['Company name'].mode()"
   ]
  },
  {
   "cell_type": "code",
   "execution_count": 35,
   "id": "69bdda05",
   "metadata": {},
   "outputs": [
    {
     "data": {
      "text/html": [
       "<div>\n",
       "<style scoped>\n",
       "    .dataframe tbody tr th:only-of-type {\n",
       "        vertical-align: middle;\n",
       "    }\n",
       "\n",
       "    .dataframe tbody tr th {\n",
       "        vertical-align: top;\n",
       "    }\n",
       "\n",
       "    .dataframe thead th {\n",
       "        text-align: right;\n",
       "    }\n",
       "</style>\n",
       "<table border=\"1\" class=\"dataframe\">\n",
       "  <thead>\n",
       "    <tr style=\"text-align: right;\">\n",
       "      <th></th>\n",
       "      <th>Company</th>\n",
       "      <th>Age</th>\n",
       "      <th>Salary</th>\n",
       "      <th>Place</th>\n",
       "      <th>Country</th>\n",
       "      <th>Gender</th>\n",
       "    </tr>\n",
       "  </thead>\n",
       "  <tbody>\n",
       "    <tr>\n",
       "      <th>0</th>\n",
       "      <td>TCS</td>\n",
       "      <td>20.0</td>\n",
       "      <td>NaN</td>\n",
       "      <td>Chennai</td>\n",
       "      <td>India</td>\n",
       "      <td>0</td>\n",
       "    </tr>\n",
       "    <tr>\n",
       "      <th>1</th>\n",
       "      <td>Infosys</td>\n",
       "      <td>30.0</td>\n",
       "      <td>NaN</td>\n",
       "      <td>Mumbai</td>\n",
       "      <td>India</td>\n",
       "      <td>0</td>\n",
       "    </tr>\n",
       "    <tr>\n",
       "      <th>2</th>\n",
       "      <td>TCS</td>\n",
       "      <td>35.0</td>\n",
       "      <td>2300.0</td>\n",
       "      <td>Calcutta</td>\n",
       "      <td>India</td>\n",
       "      <td>0</td>\n",
       "    </tr>\n",
       "    <tr>\n",
       "      <th>3</th>\n",
       "      <td>Infosys</td>\n",
       "      <td>40.0</td>\n",
       "      <td>3000.0</td>\n",
       "      <td>Delhi</td>\n",
       "      <td>India</td>\n",
       "      <td>0</td>\n",
       "    </tr>\n",
       "    <tr>\n",
       "      <th>4</th>\n",
       "      <td>TCS</td>\n",
       "      <td>23.0</td>\n",
       "      <td>4000.0</td>\n",
       "      <td>Mumbai</td>\n",
       "      <td>India</td>\n",
       "      <td>0</td>\n",
       "    </tr>\n",
       "    <tr>\n",
       "      <th>...</th>\n",
       "      <td>...</td>\n",
       "      <td>...</td>\n",
       "      <td>...</td>\n",
       "      <td>...</td>\n",
       "      <td>...</td>\n",
       "      <td>...</td>\n",
       "    </tr>\n",
       "    <tr>\n",
       "      <th>143</th>\n",
       "      <td>TCS</td>\n",
       "      <td>33.0</td>\n",
       "      <td>9024.0</td>\n",
       "      <td>Calcutta</td>\n",
       "      <td>India</td>\n",
       "      <td>1</td>\n",
       "    </tr>\n",
       "    <tr>\n",
       "      <th>144</th>\n",
       "      <td>Infosys</td>\n",
       "      <td>22.0</td>\n",
       "      <td>8787.0</td>\n",
       "      <td>Calcutta</td>\n",
       "      <td>India</td>\n",
       "      <td>1</td>\n",
       "    </tr>\n",
       "    <tr>\n",
       "      <th>145</th>\n",
       "      <td>Infosys</td>\n",
       "      <td>44.0</td>\n",
       "      <td>4034.0</td>\n",
       "      <td>Delhi</td>\n",
       "      <td>India</td>\n",
       "      <td>1</td>\n",
       "    </tr>\n",
       "    <tr>\n",
       "      <th>146</th>\n",
       "      <td>TCS</td>\n",
       "      <td>33.0</td>\n",
       "      <td>5034.0</td>\n",
       "      <td>Mumbai</td>\n",
       "      <td>India</td>\n",
       "      <td>1</td>\n",
       "    </tr>\n",
       "    <tr>\n",
       "      <th>147</th>\n",
       "      <td>Infosys</td>\n",
       "      <td>22.0</td>\n",
       "      <td>8202.0</td>\n",
       "      <td>Cochin</td>\n",
       "      <td>India</td>\n",
       "      <td>0</td>\n",
       "    </tr>\n",
       "  </tbody>\n",
       "</table>\n",
       "<p>148 rows × 6 columns</p>\n",
       "</div>"
      ],
      "text/plain": [
       "     Company   Age  Salary     Place Country  Gender\n",
       "0        TCS  20.0     NaN   Chennai   India       0\n",
       "1    Infosys  30.0     NaN    Mumbai   India       0\n",
       "2        TCS  35.0  2300.0  Calcutta   India       0\n",
       "3    Infosys  40.0  3000.0     Delhi   India       0\n",
       "4        TCS  23.0  4000.0    Mumbai   India       0\n",
       "..       ...   ...     ...       ...     ...     ...\n",
       "143      TCS  33.0  9024.0  Calcutta   India       1\n",
       "144  Infosys  22.0  8787.0  Calcutta   India       1\n",
       "145  Infosys  44.0  4034.0     Delhi   India       1\n",
       "146      TCS  33.0  5034.0    Mumbai   India       1\n",
       "147  Infosys  22.0  8202.0    Cochin   India       0\n",
       "\n",
       "[148 rows x 6 columns]"
      ]
     },
     "execution_count": 35,
     "metadata": {},
     "output_type": "execute_result"
    }
   ],
   "source": [
    "dfN = pd.read_excel(\"C://Users//navs9//Downloads//Employee.xlsx\")\n",
    "dfN"
   ]
  },
  {
   "cell_type": "code",
   "execution_count": 36,
   "id": "94e20498",
   "metadata": {},
   "outputs": [],
   "source": [
    "# Renaming columns\n",
    "dfN.rename(columns={'Company': 'Company name', 'Age': 'Age of employee', 'Salary':'Salary of employee','Place':'Place of employee','Country':'Country of employee','Gender':'Gender of employee'}, inplace=True)"
   ]
  },
  {
   "cell_type": "code",
   "execution_count": 37,
   "id": "383f646a",
   "metadata": {},
   "outputs": [
    {
     "data": {
      "text/html": [
       "<div>\n",
       "<style scoped>\n",
       "    .dataframe tbody tr th:only-of-type {\n",
       "        vertical-align: middle;\n",
       "    }\n",
       "\n",
       "    .dataframe tbody tr th {\n",
       "        vertical-align: top;\n",
       "    }\n",
       "\n",
       "    .dataframe thead th {\n",
       "        text-align: right;\n",
       "    }\n",
       "</style>\n",
       "<table border=\"1\" class=\"dataframe\">\n",
       "  <thead>\n",
       "    <tr style=\"text-align: right;\">\n",
       "      <th></th>\n",
       "      <th>Company name</th>\n",
       "      <th>Age of employee</th>\n",
       "      <th>Salary of employee</th>\n",
       "      <th>Place of employee</th>\n",
       "      <th>Country of employee</th>\n",
       "      <th>Gender of employee</th>\n",
       "    </tr>\n",
       "  </thead>\n",
       "  <tbody>\n",
       "    <tr>\n",
       "      <th>0</th>\n",
       "      <td>TCS</td>\n",
       "      <td>20.0</td>\n",
       "      <td>NaN</td>\n",
       "      <td>Chennai</td>\n",
       "      <td>India</td>\n",
       "      <td>0</td>\n",
       "    </tr>\n",
       "    <tr>\n",
       "      <th>1</th>\n",
       "      <td>Infosys</td>\n",
       "      <td>30.0</td>\n",
       "      <td>NaN</td>\n",
       "      <td>Mumbai</td>\n",
       "      <td>India</td>\n",
       "      <td>0</td>\n",
       "    </tr>\n",
       "    <tr>\n",
       "      <th>2</th>\n",
       "      <td>TCS</td>\n",
       "      <td>35.0</td>\n",
       "      <td>2300.0</td>\n",
       "      <td>Calcutta</td>\n",
       "      <td>India</td>\n",
       "      <td>0</td>\n",
       "    </tr>\n",
       "    <tr>\n",
       "      <th>3</th>\n",
       "      <td>Infosys</td>\n",
       "      <td>40.0</td>\n",
       "      <td>3000.0</td>\n",
       "      <td>Delhi</td>\n",
       "      <td>India</td>\n",
       "      <td>0</td>\n",
       "    </tr>\n",
       "    <tr>\n",
       "      <th>4</th>\n",
       "      <td>TCS</td>\n",
       "      <td>23.0</td>\n",
       "      <td>4000.0</td>\n",
       "      <td>Mumbai</td>\n",
       "      <td>India</td>\n",
       "      <td>0</td>\n",
       "    </tr>\n",
       "    <tr>\n",
       "      <th>...</th>\n",
       "      <td>...</td>\n",
       "      <td>...</td>\n",
       "      <td>...</td>\n",
       "      <td>...</td>\n",
       "      <td>...</td>\n",
       "      <td>...</td>\n",
       "    </tr>\n",
       "    <tr>\n",
       "      <th>142</th>\n",
       "      <td>Infosys Pvt Lmt</td>\n",
       "      <td>22.0</td>\n",
       "      <td>8202.0</td>\n",
       "      <td>Mumbai</td>\n",
       "      <td>India</td>\n",
       "      <td>0</td>\n",
       "    </tr>\n",
       "    <tr>\n",
       "      <th>143</th>\n",
       "      <td>TCS</td>\n",
       "      <td>33.0</td>\n",
       "      <td>9024.0</td>\n",
       "      <td>Calcutta</td>\n",
       "      <td>India</td>\n",
       "      <td>1</td>\n",
       "    </tr>\n",
       "    <tr>\n",
       "      <th>145</th>\n",
       "      <td>Infosys</td>\n",
       "      <td>44.0</td>\n",
       "      <td>4034.0</td>\n",
       "      <td>Delhi</td>\n",
       "      <td>India</td>\n",
       "      <td>1</td>\n",
       "    </tr>\n",
       "    <tr>\n",
       "      <th>146</th>\n",
       "      <td>TCS</td>\n",
       "      <td>33.0</td>\n",
       "      <td>5034.0</td>\n",
       "      <td>Mumbai</td>\n",
       "      <td>India</td>\n",
       "      <td>1</td>\n",
       "    </tr>\n",
       "    <tr>\n",
       "      <th>147</th>\n",
       "      <td>Infosys</td>\n",
       "      <td>22.0</td>\n",
       "      <td>8202.0</td>\n",
       "      <td>Cochin</td>\n",
       "      <td>India</td>\n",
       "      <td>0</td>\n",
       "    </tr>\n",
       "  </tbody>\n",
       "</table>\n",
       "<p>144 rows × 6 columns</p>\n",
       "</div>"
      ],
      "text/plain": [
       "        Company name  Age of employee  Salary of employee Place of employee   \n",
       "0                TCS             20.0                 NaN           Chennai  \\\n",
       "1            Infosys             30.0                 NaN            Mumbai   \n",
       "2                TCS             35.0              2300.0          Calcutta   \n",
       "3            Infosys             40.0              3000.0             Delhi   \n",
       "4                TCS             23.0              4000.0            Mumbai   \n",
       "..               ...              ...                 ...               ...   \n",
       "142  Infosys Pvt Lmt             22.0              8202.0            Mumbai   \n",
       "143              TCS             33.0              9024.0          Calcutta   \n",
       "145          Infosys             44.0              4034.0             Delhi   \n",
       "146              TCS             33.0              5034.0            Mumbai   \n",
       "147          Infosys             22.0              8202.0            Cochin   \n",
       "\n",
       "    Country of employee  Gender of employee  \n",
       "0                 India                   0  \n",
       "1                 India                   0  \n",
       "2                 India                   0  \n",
       "3                 India                   0  \n",
       "4                 India                   0  \n",
       "..                  ...                 ...  \n",
       "142               India                   0  \n",
       "143               India                   1  \n",
       "145               India                   1  \n",
       "146               India                   1  \n",
       "147               India                   0  \n",
       "\n",
       "[144 rows x 6 columns]"
      ]
     },
     "execution_count": 37,
     "metadata": {},
     "output_type": "execute_result"
    }
   ],
   "source": [
    "#deleting duplicate rows\n",
    "dfN.drop_duplicates(inplace=True)\n",
    "dfN"
   ]
  },
  {
   "cell_type": "code",
   "execution_count": 38,
   "id": "d4db2136",
   "metadata": {},
   "outputs": [
    {
     "data": {
      "text/plain": [
       "Company name            8\n",
       "Age of employee        17\n",
       "Salary of employee     23\n",
       "Place of employee      14\n",
       "Country of employee     0\n",
       "Gender of employee      0\n",
       "dtype: int64"
      ]
     },
     "execution_count": 38,
     "metadata": {},
     "output_type": "execute_result"
    }
   ],
   "source": [
    "#Checking null values in each column\n",
    "dfN.isna().sum()"
   ]
  },
  {
   "cell_type": "code",
   "execution_count": 39,
   "id": "35847c40",
   "metadata": {},
   "outputs": [],
   "source": [
    "#replacing null values of column Company name with TCS\n",
    "dfN['Company name'].fillna(dfN['Company name'].mode()[0], inplace=True)"
   ]
  },
  {
   "cell_type": "code",
   "execution_count": 40,
   "id": "f47e0983",
   "metadata": {},
   "outputs": [
    {
     "data": {
      "text/plain": [
       "Company name            0\n",
       "Age of employee        17\n",
       "Salary of employee     23\n",
       "Place of employee      14\n",
       "Country of employee     0\n",
       "Gender of employee      0\n",
       "dtype: int64"
      ]
     },
     "execution_count": 40,
     "metadata": {},
     "output_type": "execute_result"
    }
   ],
   "source": [
    "#Checking null values in each column\n",
    "dfN.isna().sum()"
   ]
  },
  {
   "cell_type": "code",
   "execution_count": 41,
   "id": "4cc7310d",
   "metadata": {},
   "outputs": [],
   "source": [
    "#replacing null values of column Age of employee with median age 33\n",
    "dfN['Age of employee'].fillna(33, inplace=True)"
   ]
  },
  {
   "cell_type": "code",
   "execution_count": 42,
   "id": "a73a66c1",
   "metadata": {},
   "outputs": [
    {
     "data": {
      "text/plain": [
       "Company name            0\n",
       "Age of employee         0\n",
       "Salary of employee     23\n",
       "Place of employee      14\n",
       "Country of employee     0\n",
       "Gender of employee      0\n",
       "dtype: int64"
      ]
     },
     "execution_count": 42,
     "metadata": {},
     "output_type": "execute_result"
    }
   ],
   "source": [
    "#Checking null values in each column\n",
    "dfN.isna().sum()"
   ]
  },
  {
   "cell_type": "code",
   "execution_count": 43,
   "id": "0bed2f38",
   "metadata": {},
   "outputs": [],
   "source": [
    "#some employee age are found 0, replacing them with 33\n",
    "dfN['Age of employee'].replace(0,33, inplace=True)"
   ]
  },
  {
   "cell_type": "code",
   "execution_count": 44,
   "id": "5f6883a2",
   "metadata": {},
   "outputs": [
    {
     "data": {
      "text/html": [
       "<div>\n",
       "<style scoped>\n",
       "    .dataframe tbody tr th:only-of-type {\n",
       "        vertical-align: middle;\n",
       "    }\n",
       "\n",
       "    .dataframe tbody tr th {\n",
       "        vertical-align: top;\n",
       "    }\n",
       "\n",
       "    .dataframe thead th {\n",
       "        text-align: right;\n",
       "    }\n",
       "</style>\n",
       "<table border=\"1\" class=\"dataframe\">\n",
       "  <thead>\n",
       "    <tr style=\"text-align: right;\">\n",
       "      <th></th>\n",
       "      <th>Company name</th>\n",
       "      <th>Age of employee</th>\n",
       "      <th>Salary of employee</th>\n",
       "      <th>Place of employee</th>\n",
       "      <th>Country of employee</th>\n",
       "      <th>Gender of employee</th>\n",
       "    </tr>\n",
       "  </thead>\n",
       "  <tbody>\n",
       "  </tbody>\n",
       "</table>\n",
       "</div>"
      ],
      "text/plain": [
       "Empty DataFrame\n",
       "Columns: [Company name, Age of employee, Salary of employee, Place of employee, Country of employee, Gender of employee]\n",
       "Index: []"
      ]
     },
     "execution_count": 44,
     "metadata": {},
     "output_type": "execute_result"
    }
   ],
   "source": [
    "df[dfN['Age of employee']==0]"
   ]
  },
  {
   "cell_type": "code",
   "execution_count": 45,
   "id": "d52f223f",
   "metadata": {},
   "outputs": [],
   "source": [
    "#replacing null values of column Salary of employee with mean\n",
    "dfN['Salary of employee'].fillna(df2['Salary of employee'].mean(), inplace=True)"
   ]
  },
  {
   "cell_type": "code",
   "execution_count": 46,
   "id": "56addb56",
   "metadata": {},
   "outputs": [
    {
     "name": "stdout",
     "output_type": "stream",
     "text": [
      "Index(['Place of employee'], dtype='object')\n"
     ]
    }
   ],
   "source": [
    "#finding null values columns remaining or if any\n",
    "null_column_values=dfN.columns[dfN.isnull().any()]\n",
    "print(null_column_values)"
   ]
  },
  {
   "cell_type": "code",
   "execution_count": 47,
   "id": "21200737",
   "metadata": {},
   "outputs": [
    {
     "data": {
      "text/plain": [
       "0    Mumbai\n",
       "Name: Place of employee, dtype: object"
      ]
     },
     "execution_count": 47,
     "metadata": {},
     "output_type": "execute_result"
    }
   ],
   "source": [
    "dfN['Place of employee'].mode()"
   ]
  },
  {
   "cell_type": "code",
   "execution_count": 48,
   "id": "178399f2",
   "metadata": {},
   "outputs": [],
   "source": [
    "#replacing null values of column Place of employee with mode value\n",
    "dfN['Place of employee'].fillna(dfN['Place of employee'].mode()[0], inplace=True)"
   ]
  },
  {
   "cell_type": "code",
   "execution_count": 49,
   "id": "51c1d751",
   "metadata": {},
   "outputs": [
    {
     "name": "stdout",
     "output_type": "stream",
     "text": [
      "Index([], dtype='object')\n"
     ]
    }
   ],
   "source": [
    "#finding null values columns remaining or if any\n",
    "null_column_values=dfN.columns[dfN.isnull().any()]\n",
    "print(null_column_values)"
   ]
  },
  {
   "cell_type": "code",
   "execution_count": 50,
   "id": "f14c5427",
   "metadata": {},
   "outputs": [
    {
     "data": {
      "text/plain": [
       "Company name           0\n",
       "Age of employee        0\n",
       "Salary of employee     0\n",
       "Place of employee      0\n",
       "Country of employee    0\n",
       "Gender of employee     0\n",
       "dtype: int64"
      ]
     },
     "execution_count": 50,
     "metadata": {},
     "output_type": "execute_result"
    }
   ],
   "source": [
    "#Checking null values in each column\n",
    "dfN.isna().sum()"
   ]
  },
  {
   "cell_type": "code",
   "execution_count": 51,
   "id": "bcafe572",
   "metadata": {},
   "outputs": [],
   "source": [
    "#replacing values in gender with M and F\n",
    "dfN['Gender of employee'].replace(0,'M', inplace=True)\n",
    "dfN['Gender of employee'].replace(1,'F', inplace=True)"
   ]
  },
  {
   "cell_type": "code",
   "execution_count": 52,
   "id": "3ce62873",
   "metadata": {},
   "outputs": [],
   "source": [
    "#making a spelling correction\n",
    "dfN['Place of employee'].replace('Podicherry','Pondicherry',inplace=True)"
   ]
  },
  {
   "cell_type": "code",
   "execution_count": 53,
   "id": "06879a79",
   "metadata": {},
   "outputs": [
    {
     "data": {
      "text/html": [
       "<div>\n",
       "<style scoped>\n",
       "    .dataframe tbody tr th:only-of-type {\n",
       "        vertical-align: middle;\n",
       "    }\n",
       "\n",
       "    .dataframe tbody tr th {\n",
       "        vertical-align: top;\n",
       "    }\n",
       "\n",
       "    .dataframe thead th {\n",
       "        text-align: right;\n",
       "    }\n",
       "</style>\n",
       "<table border=\"1\" class=\"dataframe\">\n",
       "  <thead>\n",
       "    <tr style=\"text-align: right;\">\n",
       "      <th></th>\n",
       "      <th>Company name</th>\n",
       "      <th>Age of employee</th>\n",
       "      <th>Salary of employee</th>\n",
       "      <th>Place of employee</th>\n",
       "      <th>Country of employee</th>\n",
       "      <th>Gender of employee</th>\n",
       "    </tr>\n",
       "  </thead>\n",
       "  <tbody>\n",
       "    <tr>\n",
       "      <th>0</th>\n",
       "      <td>TCS</td>\n",
       "      <td>20.0</td>\n",
       "      <td>5038.555556</td>\n",
       "      <td>Chennai</td>\n",
       "      <td>India</td>\n",
       "      <td>M</td>\n",
       "    </tr>\n",
       "    <tr>\n",
       "      <th>1</th>\n",
       "      <td>Infosys</td>\n",
       "      <td>30.0</td>\n",
       "      <td>5038.555556</td>\n",
       "      <td>Mumbai</td>\n",
       "      <td>India</td>\n",
       "      <td>M</td>\n",
       "    </tr>\n",
       "    <tr>\n",
       "      <th>2</th>\n",
       "      <td>TCS</td>\n",
       "      <td>35.0</td>\n",
       "      <td>2300.000000</td>\n",
       "      <td>Calcutta</td>\n",
       "      <td>India</td>\n",
       "      <td>M</td>\n",
       "    </tr>\n",
       "    <tr>\n",
       "      <th>3</th>\n",
       "      <td>Infosys</td>\n",
       "      <td>40.0</td>\n",
       "      <td>3000.000000</td>\n",
       "      <td>Delhi</td>\n",
       "      <td>India</td>\n",
       "      <td>M</td>\n",
       "    </tr>\n",
       "    <tr>\n",
       "      <th>4</th>\n",
       "      <td>TCS</td>\n",
       "      <td>23.0</td>\n",
       "      <td>4000.000000</td>\n",
       "      <td>Mumbai</td>\n",
       "      <td>India</td>\n",
       "      <td>M</td>\n",
       "    </tr>\n",
       "    <tr>\n",
       "      <th>...</th>\n",
       "      <td>...</td>\n",
       "      <td>...</td>\n",
       "      <td>...</td>\n",
       "      <td>...</td>\n",
       "      <td>...</td>\n",
       "      <td>...</td>\n",
       "    </tr>\n",
       "    <tr>\n",
       "      <th>142</th>\n",
       "      <td>Infosys</td>\n",
       "      <td>22.0</td>\n",
       "      <td>8202.000000</td>\n",
       "      <td>Mumbai</td>\n",
       "      <td>India</td>\n",
       "      <td>M</td>\n",
       "    </tr>\n",
       "    <tr>\n",
       "      <th>143</th>\n",
       "      <td>TCS</td>\n",
       "      <td>33.0</td>\n",
       "      <td>9024.000000</td>\n",
       "      <td>Calcutta</td>\n",
       "      <td>India</td>\n",
       "      <td>F</td>\n",
       "    </tr>\n",
       "    <tr>\n",
       "      <th>145</th>\n",
       "      <td>Infosys</td>\n",
       "      <td>44.0</td>\n",
       "      <td>4034.000000</td>\n",
       "      <td>Delhi</td>\n",
       "      <td>India</td>\n",
       "      <td>F</td>\n",
       "    </tr>\n",
       "    <tr>\n",
       "      <th>146</th>\n",
       "      <td>TCS</td>\n",
       "      <td>33.0</td>\n",
       "      <td>5034.000000</td>\n",
       "      <td>Mumbai</td>\n",
       "      <td>India</td>\n",
       "      <td>F</td>\n",
       "    </tr>\n",
       "    <tr>\n",
       "      <th>147</th>\n",
       "      <td>Infosys</td>\n",
       "      <td>22.0</td>\n",
       "      <td>8202.000000</td>\n",
       "      <td>Cochin</td>\n",
       "      <td>India</td>\n",
       "      <td>M</td>\n",
       "    </tr>\n",
       "  </tbody>\n",
       "</table>\n",
       "<p>144 rows × 6 columns</p>\n",
       "</div>"
      ],
      "text/plain": [
       "    Company name  Age of employee  Salary of employee Place of employee   \n",
       "0            TCS             20.0         5038.555556           Chennai  \\\n",
       "1        Infosys             30.0         5038.555556            Mumbai   \n",
       "2            TCS             35.0         2300.000000          Calcutta   \n",
       "3        Infosys             40.0         3000.000000             Delhi   \n",
       "4            TCS             23.0         4000.000000            Mumbai   \n",
       "..           ...              ...                 ...               ...   \n",
       "142      Infosys             22.0         8202.000000            Mumbai   \n",
       "143          TCS             33.0         9024.000000          Calcutta   \n",
       "145      Infosys             44.0         4034.000000             Delhi   \n",
       "146          TCS             33.0         5034.000000            Mumbai   \n",
       "147      Infosys             22.0         8202.000000            Cochin   \n",
       "\n",
       "    Country of employee Gender of employee  \n",
       "0                 India                  M  \n",
       "1                 India                  M  \n",
       "2                 India                  M  \n",
       "3                 India                  M  \n",
       "4                 India                  M  \n",
       "..                  ...                ...  \n",
       "142               India                  M  \n",
       "143               India                  F  \n",
       "145               India                  F  \n",
       "146               India                  F  \n",
       "147               India                  M  \n",
       "\n",
       "[144 rows x 6 columns]"
      ]
     },
     "execution_count": 53,
     "metadata": {},
     "output_type": "execute_result"
    }
   ],
   "source": [
    "#Some names in columns are found inappropriate, replacing them as follows\n",
    "dfN['Company name']=dfN['Company name'].replace('Tata Consultancy Services','TCS')\n",
    "dfN['Company name']=dfN['Company name'].replace('Congnizant','CTS')\n",
    "dfN['Company name']=dfN['Company name'].replace('Infosys Pvt Lmt','Infosys')\n",
    "dfN"
   ]
  },
  {
   "cell_type": "markdown",
   "id": "27861120",
   "metadata": {},
   "source": [
    "### Data analysis "
   ]
  },
  {
   "cell_type": "code",
   "execution_count": 54,
   "id": "ffdd8907",
   "metadata": {},
   "outputs": [],
   "source": [
    "#Filtering the data with age > 40 and salary < 5000"
   ]
  },
  {
   "cell_type": "code",
   "execution_count": 55,
   "id": "2ef781ce",
   "metadata": {},
   "outputs": [
    {
     "data": {
      "text/html": [
       "<div>\n",
       "<style scoped>\n",
       "    .dataframe tbody tr th:only-of-type {\n",
       "        vertical-align: middle;\n",
       "    }\n",
       "\n",
       "    .dataframe tbody tr th {\n",
       "        vertical-align: top;\n",
       "    }\n",
       "\n",
       "    .dataframe thead th {\n",
       "        text-align: right;\n",
       "    }\n",
       "</style>\n",
       "<table border=\"1\" class=\"dataframe\">\n",
       "  <thead>\n",
       "    <tr style=\"text-align: right;\">\n",
       "      <th></th>\n",
       "      <th>Company name</th>\n",
       "      <th>Age of employee</th>\n",
       "      <th>Salary of employee</th>\n",
       "      <th>Place of employee</th>\n",
       "      <th>Country of employee</th>\n",
       "      <th>Gender of employee</th>\n",
       "    </tr>\n",
       "  </thead>\n",
       "  <tbody>\n",
       "    <tr>\n",
       "      <th>21</th>\n",
       "      <td>Infosys</td>\n",
       "      <td>50.0</td>\n",
       "      <td>3184.0</td>\n",
       "      <td>Delhi</td>\n",
       "      <td>India</td>\n",
       "      <td>M</td>\n",
       "    </tr>\n",
       "    <tr>\n",
       "      <th>32</th>\n",
       "      <td>Infosys</td>\n",
       "      <td>45.0</td>\n",
       "      <td>4034.0</td>\n",
       "      <td>Calcutta</td>\n",
       "      <td>India</td>\n",
       "      <td>M</td>\n",
       "    </tr>\n",
       "    <tr>\n",
       "      <th>39</th>\n",
       "      <td>Infosys</td>\n",
       "      <td>41.0</td>\n",
       "      <td>3000.0</td>\n",
       "      <td>Mumbai</td>\n",
       "      <td>India</td>\n",
       "      <td>M</td>\n",
       "    </tr>\n",
       "    <tr>\n",
       "      <th>50</th>\n",
       "      <td>Infosys</td>\n",
       "      <td>41.0</td>\n",
       "      <td>3000.0</td>\n",
       "      <td>Chennai</td>\n",
       "      <td>India</td>\n",
       "      <td>M</td>\n",
       "    </tr>\n",
       "    <tr>\n",
       "      <th>57</th>\n",
       "      <td>Infosys</td>\n",
       "      <td>51.0</td>\n",
       "      <td>3184.0</td>\n",
       "      <td>Hyderabad</td>\n",
       "      <td>India</td>\n",
       "      <td>M</td>\n",
       "    </tr>\n",
       "    <tr>\n",
       "      <th>68</th>\n",
       "      <td>Infosys</td>\n",
       "      <td>43.0</td>\n",
       "      <td>4034.0</td>\n",
       "      <td>Mumbai</td>\n",
       "      <td>India</td>\n",
       "      <td>M</td>\n",
       "    </tr>\n",
       "    <tr>\n",
       "      <th>75</th>\n",
       "      <td>Infosys</td>\n",
       "      <td>44.0</td>\n",
       "      <td>3000.0</td>\n",
       "      <td>Cochin</td>\n",
       "      <td>India</td>\n",
       "      <td>M</td>\n",
       "    </tr>\n",
       "    <tr>\n",
       "      <th>86</th>\n",
       "      <td>Infosys</td>\n",
       "      <td>41.0</td>\n",
       "      <td>3000.0</td>\n",
       "      <td>Delhi</td>\n",
       "      <td>India</td>\n",
       "      <td>M</td>\n",
       "    </tr>\n",
       "    <tr>\n",
       "      <th>93</th>\n",
       "      <td>Infosys</td>\n",
       "      <td>54.0</td>\n",
       "      <td>3184.0</td>\n",
       "      <td>Mumbai</td>\n",
       "      <td>India</td>\n",
       "      <td>M</td>\n",
       "    </tr>\n",
       "    <tr>\n",
       "      <th>104</th>\n",
       "      <td>Infosys</td>\n",
       "      <td>44.0</td>\n",
       "      <td>4034.0</td>\n",
       "      <td>Delhi</td>\n",
       "      <td>India</td>\n",
       "      <td>M</td>\n",
       "    </tr>\n",
       "    <tr>\n",
       "      <th>122</th>\n",
       "      <td>Infosys</td>\n",
       "      <td>44.0</td>\n",
       "      <td>3234.0</td>\n",
       "      <td>Mumbai</td>\n",
       "      <td>India</td>\n",
       "      <td>M</td>\n",
       "    </tr>\n",
       "    <tr>\n",
       "      <th>129</th>\n",
       "      <td>Infosys</td>\n",
       "      <td>50.0</td>\n",
       "      <td>3184.0</td>\n",
       "      <td>Calcutta</td>\n",
       "      <td>India</td>\n",
       "      <td>M</td>\n",
       "    </tr>\n",
       "    <tr>\n",
       "      <th>138</th>\n",
       "      <td>CTS</td>\n",
       "      <td>44.0</td>\n",
       "      <td>3033.0</td>\n",
       "      <td>Cochin</td>\n",
       "      <td>India</td>\n",
       "      <td>M</td>\n",
       "    </tr>\n",
       "    <tr>\n",
       "      <th>140</th>\n",
       "      <td>Infosys</td>\n",
       "      <td>44.0</td>\n",
       "      <td>4034.0</td>\n",
       "      <td>Hyderabad</td>\n",
       "      <td>India</td>\n",
       "      <td>M</td>\n",
       "    </tr>\n",
       "    <tr>\n",
       "      <th>145</th>\n",
       "      <td>Infosys</td>\n",
       "      <td>44.0</td>\n",
       "      <td>4034.0</td>\n",
       "      <td>Delhi</td>\n",
       "      <td>India</td>\n",
       "      <td>F</td>\n",
       "    </tr>\n",
       "  </tbody>\n",
       "</table>\n",
       "</div>"
      ],
      "text/plain": [
       "    Company name  Age of employee  Salary of employee Place of employee   \n",
       "21       Infosys             50.0              3184.0             Delhi  \\\n",
       "32       Infosys             45.0              4034.0          Calcutta   \n",
       "39       Infosys             41.0              3000.0            Mumbai   \n",
       "50       Infosys             41.0              3000.0           Chennai   \n",
       "57       Infosys             51.0              3184.0         Hyderabad   \n",
       "68       Infosys             43.0              4034.0            Mumbai   \n",
       "75       Infosys             44.0              3000.0            Cochin   \n",
       "86       Infosys             41.0              3000.0             Delhi   \n",
       "93       Infosys             54.0              3184.0            Mumbai   \n",
       "104      Infosys             44.0              4034.0             Delhi   \n",
       "122      Infosys             44.0              3234.0            Mumbai   \n",
       "129      Infosys             50.0              3184.0          Calcutta   \n",
       "138          CTS             44.0              3033.0            Cochin   \n",
       "140      Infosys             44.0              4034.0         Hyderabad   \n",
       "145      Infosys             44.0              4034.0             Delhi   \n",
       "\n",
       "    Country of employee Gender of employee  \n",
       "21                India                  M  \n",
       "32                India                  M  \n",
       "39                India                  M  \n",
       "50                India                  M  \n",
       "57                India                  M  \n",
       "68                India                  M  \n",
       "75                India                  M  \n",
       "86                India                  M  \n",
       "93                India                  M  \n",
       "104               India                  M  \n",
       "122               India                  M  \n",
       "129               India                  M  \n",
       "138               India                  M  \n",
       "140               India                  M  \n",
       "145               India                  F  "
      ]
     },
     "execution_count": 55,
     "metadata": {},
     "output_type": "execute_result"
    }
   ],
   "source": [
    "dfN[(dfN['Age of employee']>40) & (dfN['Salary of employee']<5000)]"
   ]
  },
  {
   "cell_type": "code",
   "execution_count": 56,
   "id": "4455276c",
   "metadata": {},
   "outputs": [
    {
     "data": {
      "image/png": "[encoded data removed]",
      "text/plain": [
       "<Figure size 640x480 with 1 Axes>"
      ]
     },
     "metadata": {},
     "output_type": "display_data"
    }
   ],
   "source": [
    "#Scatter plot visualization (both variables are numerical type)\n",
    "age=dfN['Age of employee']\n",
    "salary=dfN['Salary of employee']\n",
    "plt.xlabel('Age of employee')\n",
    "plt.ylabel('Salary of employee')\n",
    "plt.title(\"Age v/s Salary\")\n",
    "sns.scatterplot(x=age,y=salary,hue=age,palette='viridis')\n",
    "plt.show()"
   ]
  },
  {
   "cell_type": "code",
   "execution_count": 57,
   "id": "3a03c1d0",
   "metadata": {},
   "outputs": [
    {
     "name": "stdout",
     "output_type": "stream",
     "text": [
      "The correlation between age and salary is -0.01832031129423376\n"
     ]
    }
   ],
   "source": [
    "#Finding correlation\n",
    "correlation=dfN['Age of employee'].corr(dfN['Salary of employee'])\n",
    "print(\"The correlation between age and salary is\",correlation)"
   ]
  },
  {
   "cell_type": "code",
   "execution_count": 58,
   "id": "76ea33d9",
   "metadata": {},
   "outputs": [],
   "source": [
    "#the correlation is negative and very close to zero.\n",
    "#Which means almost no linear relation"
   ]
  },
  {
   "cell_type": "code",
   "execution_count": 59,
   "id": "80bfab6f",
   "metadata": {},
   "outputs": [
    {
     "data": {
      "text/plain": [
       "Place of employee\n",
       "Mumbai         48\n",
       "Calcutta       32\n",
       "Chennai        14\n",
       "Delhi          14\n",
       "Cochin         13\n",
       "Noida           8\n",
       "Hyderabad       8\n",
       "Pondicherry     3\n",
       "Pune            2\n",
       "Bhopal          1\n",
       "Nagpur          1\n",
       "Name: count, dtype: int64"
      ]
     },
     "execution_count": 59,
     "metadata": {},
     "output_type": "execute_result"
    }
   ],
   "source": [
    "dfN['Place of employee'].value_counts()"
   ]
  },
  {
   "cell_type": "code",
   "execution_count": 60,
   "id": "30c38812",
   "metadata": {},
   "outputs": [
    {
     "data": {
      "text/plain": [
       "Text(0.5, 1.0, 'Employee from different places')"
      ]
     },
     "execution_count": 60,
     "metadata": {},
     "output_type": "execute_result"
    },
    {
     "data": {
      "image/png": "[encoded data removed]",
      "text/plain": [
       "<Figure size 640x480 with 1 Axes>"
      ]
     },
     "metadata": {},
     "output_type": "display_data"
    }
   ],
   "source": [
    "#visualizing the results.\n",
    "count=dfN['Place of employee'].value_counts()\n",
    "plt.bar(count.index,count.values,color='blue')\n",
    "plt.xlabel(\"Place of employee\")\n",
    "plt.ylabel(\"Number of employees\")\n",
    "plt.xticks(rotation=90)\n",
    "plt.title(\"Employee from different places\")"
   ]
  },
  {
   "cell_type": "markdown",
   "id": "5d75b88a",
   "metadata": {},
   "source": [
    "### Data encoding "
   ]
  },
  {
   "cell_type": "code",
   "execution_count": 61,
   "id": "37d96aa5",
   "metadata": {},
   "outputs": [
    {
     "data": {
      "text/html": [
       "<div>\n",
       "<style scoped>\n",
       "    .dataframe tbody tr th:only-of-type {\n",
       "        vertical-align: middle;\n",
       "    }\n",
       "\n",
       "    .dataframe tbody tr th {\n",
       "        vertical-align: top;\n",
       "    }\n",
       "\n",
       "    .dataframe thead th {\n",
       "        text-align: right;\n",
       "    }\n",
       "</style>\n",
       "<table border=\"1\" class=\"dataframe\">\n",
       "  <thead>\n",
       "    <tr style=\"text-align: right;\">\n",
       "      <th></th>\n",
       "      <th>Company name</th>\n",
       "      <th>Age of employee</th>\n",
       "      <th>Salary of employee</th>\n",
       "      <th>Place of employee</th>\n",
       "      <th>Country of employee</th>\n",
       "      <th>Gender of employee</th>\n",
       "    </tr>\n",
       "  </thead>\n",
       "  <tbody>\n",
       "    <tr>\n",
       "      <th>0</th>\n",
       "      <td>TCS</td>\n",
       "      <td>20.0</td>\n",
       "      <td>5038.555556</td>\n",
       "      <td>Chennai</td>\n",
       "      <td>India</td>\n",
       "      <td>M</td>\n",
       "    </tr>\n",
       "    <tr>\n",
       "      <th>1</th>\n",
       "      <td>Infosys</td>\n",
       "      <td>30.0</td>\n",
       "      <td>5038.555556</td>\n",
       "      <td>Mumbai</td>\n",
       "      <td>India</td>\n",
       "      <td>M</td>\n",
       "    </tr>\n",
       "    <tr>\n",
       "      <th>2</th>\n",
       "      <td>TCS</td>\n",
       "      <td>35.0</td>\n",
       "      <td>2300.000000</td>\n",
       "      <td>Calcutta</td>\n",
       "      <td>India</td>\n",
       "      <td>M</td>\n",
       "    </tr>\n",
       "    <tr>\n",
       "      <th>3</th>\n",
       "      <td>Infosys</td>\n",
       "      <td>40.0</td>\n",
       "      <td>3000.000000</td>\n",
       "      <td>Delhi</td>\n",
       "      <td>India</td>\n",
       "      <td>M</td>\n",
       "    </tr>\n",
       "    <tr>\n",
       "      <th>4</th>\n",
       "      <td>TCS</td>\n",
       "      <td>23.0</td>\n",
       "      <td>4000.000000</td>\n",
       "      <td>Mumbai</td>\n",
       "      <td>India</td>\n",
       "      <td>M</td>\n",
       "    </tr>\n",
       "    <tr>\n",
       "      <th>...</th>\n",
       "      <td>...</td>\n",
       "      <td>...</td>\n",
       "      <td>...</td>\n",
       "      <td>...</td>\n",
       "      <td>...</td>\n",
       "      <td>...</td>\n",
       "    </tr>\n",
       "    <tr>\n",
       "      <th>142</th>\n",
       "      <td>Infosys</td>\n",
       "      <td>22.0</td>\n",
       "      <td>8202.000000</td>\n",
       "      <td>Mumbai</td>\n",
       "      <td>India</td>\n",
       "      <td>M</td>\n",
       "    </tr>\n",
       "    <tr>\n",
       "      <th>143</th>\n",
       "      <td>TCS</td>\n",
       "      <td>33.0</td>\n",
       "      <td>9024.000000</td>\n",
       "      <td>Calcutta</td>\n",
       "      <td>India</td>\n",
       "      <td>F</td>\n",
       "    </tr>\n",
       "    <tr>\n",
       "      <th>145</th>\n",
       "      <td>Infosys</td>\n",
       "      <td>44.0</td>\n",
       "      <td>4034.000000</td>\n",
       "      <td>Delhi</td>\n",
       "      <td>India</td>\n",
       "      <td>F</td>\n",
       "    </tr>\n",
       "    <tr>\n",
       "      <th>146</th>\n",
       "      <td>TCS</td>\n",
       "      <td>33.0</td>\n",
       "      <td>5034.000000</td>\n",
       "      <td>Mumbai</td>\n",
       "      <td>India</td>\n",
       "      <td>F</td>\n",
       "    </tr>\n",
       "    <tr>\n",
       "      <th>147</th>\n",
       "      <td>Infosys</td>\n",
       "      <td>22.0</td>\n",
       "      <td>8202.000000</td>\n",
       "      <td>Cochin</td>\n",
       "      <td>India</td>\n",
       "      <td>M</td>\n",
       "    </tr>\n",
       "  </tbody>\n",
       "</table>\n",
       "<p>144 rows × 6 columns</p>\n",
       "</div>"
      ],
      "text/plain": [
       "    Company name  Age of employee  Salary of employee Place of employee   \n",
       "0            TCS             20.0         5038.555556           Chennai  \\\n",
       "1        Infosys             30.0         5038.555556            Mumbai   \n",
       "2            TCS             35.0         2300.000000          Calcutta   \n",
       "3        Infosys             40.0         3000.000000             Delhi   \n",
       "4            TCS             23.0         4000.000000            Mumbai   \n",
       "..           ...              ...                 ...               ...   \n",
       "142      Infosys             22.0         8202.000000            Mumbai   \n",
       "143          TCS             33.0         9024.000000          Calcutta   \n",
       "145      Infosys             44.0         4034.000000             Delhi   \n",
       "146          TCS             33.0         5034.000000            Mumbai   \n",
       "147      Infosys             22.0         8202.000000            Cochin   \n",
       "\n",
       "    Country of employee Gender of employee  \n",
       "0                 India                  M  \n",
       "1                 India                  M  \n",
       "2                 India                  M  \n",
       "3                 India                  M  \n",
       "4                 India                  M  \n",
       "..                  ...                ...  \n",
       "142               India                  M  \n",
       "143               India                  F  \n",
       "145               India                  F  \n",
       "146               India                  F  \n",
       "147               India                  M  \n",
       "\n",
       "[144 rows x 6 columns]"
      ]
     },
     "execution_count": 61,
     "metadata": {},
     "output_type": "execute_result"
    }
   ],
   "source": [
    "dfD = dfN\n",
    "dfD"
   ]
  },
  {
   "cell_type": "code",
   "execution_count": 62,
   "id": "0e0875db",
   "metadata": {},
   "outputs": [
    {
     "data": {
      "text/plain": [
       "Company name            object\n",
       "Age of employee        float64\n",
       "Salary of employee     float64\n",
       "Place of employee       object\n",
       "Country of employee     object\n",
       "Gender of employee      object\n",
       "dtype: object"
      ]
     },
     "execution_count": 62,
     "metadata": {},
     "output_type": "execute_result"
    }
   ],
   "source": [
    "dfD.dtypes"
   ]
  },
  {
   "cell_type": "code",
   "execution_count": 63,
   "id": "46d973c4",
   "metadata": {},
   "outputs": [],
   "source": [
    "#one-hot encoding"
   ]
  },
  {
   "cell_type": "code",
   "execution_count": 64,
   "id": "aff9d65b",
   "metadata": {},
   "outputs": [
    {
     "name": "stdout",
     "output_type": "stream",
     "text": [
      "     Age of employee  Salary of employee Country of employee   \n",
      "0               20.0         5038.555556               India  \\\n",
      "1               30.0         5038.555556               India   \n",
      "2               35.0         2300.000000               India   \n",
      "3               40.0         3000.000000               India   \n",
      "4               23.0         4000.000000               India   \n",
      "..               ...                 ...                 ...   \n",
      "142             22.0         8202.000000               India   \n",
      "143             33.0         9024.000000               India   \n",
      "145             44.0         4034.000000               India   \n",
      "146             33.0         5034.000000               India   \n",
      "147             22.0         8202.000000               India   \n",
      "\n",
      "     Company name_CTS  Company name_Infosys  Company name_TCS   \n",
      "0               False                 False              True  \\\n",
      "1               False                  True             False   \n",
      "2               False                 False              True   \n",
      "3               False                  True             False   \n",
      "4               False                 False              True   \n",
      "..                ...                   ...               ...   \n",
      "142             False                  True             False   \n",
      "143             False                 False              True   \n",
      "145             False                  True             False   \n",
      "146             False                 False              True   \n",
      "147             False                  True             False   \n",
      "\n",
      "     Place of employee_Bhopal  Place of employee_Calcutta   \n",
      "0                       False                       False  \\\n",
      "1                       False                       False   \n",
      "2                       False                        True   \n",
      "3                       False                       False   \n",
      "4                       False                       False   \n",
      "..                        ...                         ...   \n",
      "142                     False                       False   \n",
      "143                     False                        True   \n",
      "145                     False                       False   \n",
      "146                     False                       False   \n",
      "147                     False                       False   \n",
      "\n",
      "     Place of employee_Chennai  Place of employee_Cochin   \n",
      "0                         True                     False  \\\n",
      "1                        False                     False   \n",
      "2                        False                     False   \n",
      "3                        False                     False   \n",
      "4                        False                     False   \n",
      "..                         ...                       ...   \n",
      "142                      False                     False   \n",
      "143                      False                     False   \n",
      "145                      False                     False   \n",
      "146                      False                     False   \n",
      "147                      False                      True   \n",
      "\n",
      "     Place of employee_Delhi  Place of employee_Hyderabad   \n",
      "0                      False                        False  \\\n",
      "1                      False                        False   \n",
      "2                      False                        False   \n",
      "3                       True                        False   \n",
      "4                      False                        False   \n",
      "..                       ...                          ...   \n",
      "142                    False                        False   \n",
      "143                    False                        False   \n",
      "145                     True                        False   \n",
      "146                    False                        False   \n",
      "147                    False                        False   \n",
      "\n",
      "     Place of employee_Mumbai  Place of employee_Nagpur   \n",
      "0                       False                     False  \\\n",
      "1                        True                     False   \n",
      "2                       False                     False   \n",
      "3                       False                     False   \n",
      "4                        True                     False   \n",
      "..                        ...                       ...   \n",
      "142                      True                     False   \n",
      "143                     False                     False   \n",
      "145                     False                     False   \n",
      "146                      True                     False   \n",
      "147                     False                     False   \n",
      "\n",
      "     Place of employee_Noida  Place of employee_Pondicherry   \n",
      "0                      False                          False  \\\n",
      "1                      False                          False   \n",
      "2                      False                          False   \n",
      "3                      False                          False   \n",
      "4                      False                          False   \n",
      "..                       ...                            ...   \n",
      "142                    False                          False   \n",
      "143                    False                          False   \n",
      "145                    False                          False   \n",
      "146                    False                          False   \n",
      "147                    False                          False   \n",
      "\n",
      "     Place of employee_Pune  Gender of employee_F  Gender of employee_M  \n",
      "0                     False                 False                  True  \n",
      "1                     False                 False                  True  \n",
      "2                     False                 False                  True  \n",
      "3                     False                 False                  True  \n",
      "4                     False                 False                  True  \n",
      "..                      ...                   ...                   ...  \n",
      "142                   False                 False                  True  \n",
      "143                   False                  True                 False  \n",
      "145                   False                  True                 False  \n",
      "146                   False                  True                 False  \n",
      "147                   False                 False                  True  \n",
      "\n",
      "[144 rows x 19 columns]\n"
     ]
    }
   ],
   "source": [
    "one_hot_encoded_data = pd.get_dummies(data=dfD, columns=['Company name', 'Place of employee', 'Gender of employee'])\n",
    "print(one_hot_encoded_data)"
   ]
  },
  {
   "cell_type": "code",
   "execution_count": 65,
   "id": "c36bac3a",
   "metadata": {},
   "outputs": [],
   "source": [
    "#importing libraries\n",
    "from sklearn.preprocessing import OneHotEncoder"
   ]
  },
  {
   "cell_type": "code",
   "execution_count": 66,
   "id": "a596038a",
   "metadata": {},
   "outputs": [],
   "source": [
    "ohe= OneHotEncoder()"
   ]
  },
  {
   "cell_type": "code",
   "execution_count": 67,
   "id": "d25984e0",
   "metadata": {},
   "outputs": [
    {
     "data": {
      "text/plain": [
       "array([[0., 0., 1., ..., 0., 0., 1.],\n",
       "       [0., 1., 0., ..., 0., 0., 1.],\n",
       "       [0., 0., 1., ..., 0., 0., 1.],\n",
       "       ...,\n",
       "       [0., 1., 0., ..., 0., 1., 0.],\n",
       "       [0., 0., 1., ..., 0., 1., 0.],\n",
       "       [0., 1., 0., ..., 0., 0., 1.]])"
      ]
     },
     "execution_count": 67,
     "metadata": {},
     "output_type": "execute_result"
    }
   ],
   "source": [
    "#forming arrays\n",
    "df_ar=ohe.fit_transform(dfD[['Company name', 'Place of employee', 'Gender of employee']]).toarray()\n",
    "df_ar"
   ]
  },
  {
   "cell_type": "code",
   "execution_count": 68,
   "id": "85ff21b9",
   "metadata": {},
   "outputs": [
    {
     "data": {
      "text/html": [
       "<div>\n",
       "<style scoped>\n",
       "    .dataframe tbody tr th:only-of-type {\n",
       "        vertical-align: middle;\n",
       "    }\n",
       "\n",
       "    .dataframe tbody tr th {\n",
       "        vertical-align: top;\n",
       "    }\n",
       "\n",
       "    .dataframe thead th {\n",
       "        text-align: right;\n",
       "    }\n",
       "</style>\n",
       "<table border=\"1\" class=\"dataframe\">\n",
       "  <thead>\n",
       "    <tr style=\"text-align: right;\">\n",
       "      <th></th>\n",
       "      <th>Company name_CTS</th>\n",
       "      <th>Company name_Infosys</th>\n",
       "      <th>Company name_TCS</th>\n",
       "      <th>Place of employee_Bhopal</th>\n",
       "      <th>Place of employee_Calcutta</th>\n",
       "      <th>Place of employee_Chennai</th>\n",
       "      <th>Place of employee_Cochin</th>\n",
       "      <th>Place of employee_Delhi</th>\n",
       "      <th>Place of employee_Hyderabad</th>\n",
       "      <th>Place of employee_Mumbai</th>\n",
       "      <th>Place of employee_Nagpur</th>\n",
       "      <th>Place of employee_Noida</th>\n",
       "      <th>Place of employee_Pondicherry</th>\n",
       "      <th>Place of employee_Pune</th>\n",
       "      <th>Gender of employee_F</th>\n",
       "      <th>Gender of employee_M</th>\n",
       "    </tr>\n",
       "  </thead>\n",
       "  <tbody>\n",
       "    <tr>\n",
       "      <th>0</th>\n",
       "      <td>0.0</td>\n",
       "      <td>0.0</td>\n",
       "      <td>1.0</td>\n",
       "      <td>0.0</td>\n",
       "      <td>0.0</td>\n",
       "      <td>1.0</td>\n",
       "      <td>0.0</td>\n",
       "      <td>0.0</td>\n",
       "      <td>0.0</td>\n",
       "      <td>0.0</td>\n",
       "      <td>0.0</td>\n",
       "      <td>0.0</td>\n",
       "      <td>0.0</td>\n",
       "      <td>0.0</td>\n",
       "      <td>0.0</td>\n",
       "      <td>1.0</td>\n",
       "    </tr>\n",
       "    <tr>\n",
       "      <th>1</th>\n",
       "      <td>0.0</td>\n",
       "      <td>1.0</td>\n",
       "      <td>0.0</td>\n",
       "      <td>0.0</td>\n",
       "      <td>0.0</td>\n",
       "      <td>0.0</td>\n",
       "      <td>0.0</td>\n",
       "      <td>0.0</td>\n",
       "      <td>0.0</td>\n",
       "      <td>1.0</td>\n",
       "      <td>0.0</td>\n",
       "      <td>0.0</td>\n",
       "      <td>0.0</td>\n",
       "      <td>0.0</td>\n",
       "      <td>0.0</td>\n",
       "      <td>1.0</td>\n",
       "    </tr>\n",
       "    <tr>\n",
       "      <th>2</th>\n",
       "      <td>0.0</td>\n",
       "      <td>0.0</td>\n",
       "      <td>1.0</td>\n",
       "      <td>0.0</td>\n",
       "      <td>1.0</td>\n",
       "      <td>0.0</td>\n",
       "      <td>0.0</td>\n",
       "      <td>0.0</td>\n",
       "      <td>0.0</td>\n",
       "      <td>0.0</td>\n",
       "      <td>0.0</td>\n",
       "      <td>0.0</td>\n",
       "      <td>0.0</td>\n",
       "      <td>0.0</td>\n",
       "      <td>0.0</td>\n",
       "      <td>1.0</td>\n",
       "    </tr>\n",
       "    <tr>\n",
       "      <th>3</th>\n",
       "      <td>0.0</td>\n",
       "      <td>1.0</td>\n",
       "      <td>0.0</td>\n",
       "      <td>0.0</td>\n",
       "      <td>0.0</td>\n",
       "      <td>0.0</td>\n",
       "      <td>0.0</td>\n",
       "      <td>1.0</td>\n",
       "      <td>0.0</td>\n",
       "      <td>0.0</td>\n",
       "      <td>0.0</td>\n",
       "      <td>0.0</td>\n",
       "      <td>0.0</td>\n",
       "      <td>0.0</td>\n",
       "      <td>0.0</td>\n",
       "      <td>1.0</td>\n",
       "    </tr>\n",
       "    <tr>\n",
       "      <th>4</th>\n",
       "      <td>0.0</td>\n",
       "      <td>0.0</td>\n",
       "      <td>1.0</td>\n",
       "      <td>0.0</td>\n",
       "      <td>0.0</td>\n",
       "      <td>0.0</td>\n",
       "      <td>0.0</td>\n",
       "      <td>0.0</td>\n",
       "      <td>0.0</td>\n",
       "      <td>1.0</td>\n",
       "      <td>0.0</td>\n",
       "      <td>0.0</td>\n",
       "      <td>0.0</td>\n",
       "      <td>0.0</td>\n",
       "      <td>0.0</td>\n",
       "      <td>1.0</td>\n",
       "    </tr>\n",
       "    <tr>\n",
       "      <th>...</th>\n",
       "      <td>...</td>\n",
       "      <td>...</td>\n",
       "      <td>...</td>\n",
       "      <td>...</td>\n",
       "      <td>...</td>\n",
       "      <td>...</td>\n",
       "      <td>...</td>\n",
       "      <td>...</td>\n",
       "      <td>...</td>\n",
       "      <td>...</td>\n",
       "      <td>...</td>\n",
       "      <td>...</td>\n",
       "      <td>...</td>\n",
       "      <td>...</td>\n",
       "      <td>...</td>\n",
       "      <td>...</td>\n",
       "    </tr>\n",
       "    <tr>\n",
       "      <th>139</th>\n",
       "      <td>0.0</td>\n",
       "      <td>1.0</td>\n",
       "      <td>0.0</td>\n",
       "      <td>0.0</td>\n",
       "      <td>0.0</td>\n",
       "      <td>0.0</td>\n",
       "      <td>0.0</td>\n",
       "      <td>0.0</td>\n",
       "      <td>0.0</td>\n",
       "      <td>1.0</td>\n",
       "      <td>0.0</td>\n",
       "      <td>0.0</td>\n",
       "      <td>0.0</td>\n",
       "      <td>0.0</td>\n",
       "      <td>0.0</td>\n",
       "      <td>1.0</td>\n",
       "    </tr>\n",
       "    <tr>\n",
       "      <th>140</th>\n",
       "      <td>0.0</td>\n",
       "      <td>0.0</td>\n",
       "      <td>1.0</td>\n",
       "      <td>0.0</td>\n",
       "      <td>1.0</td>\n",
       "      <td>0.0</td>\n",
       "      <td>0.0</td>\n",
       "      <td>0.0</td>\n",
       "      <td>0.0</td>\n",
       "      <td>0.0</td>\n",
       "      <td>0.0</td>\n",
       "      <td>0.0</td>\n",
       "      <td>0.0</td>\n",
       "      <td>0.0</td>\n",
       "      <td>1.0</td>\n",
       "      <td>0.0</td>\n",
       "    </tr>\n",
       "    <tr>\n",
       "      <th>141</th>\n",
       "      <td>0.0</td>\n",
       "      <td>1.0</td>\n",
       "      <td>0.0</td>\n",
       "      <td>0.0</td>\n",
       "      <td>0.0</td>\n",
       "      <td>0.0</td>\n",
       "      <td>0.0</td>\n",
       "      <td>1.0</td>\n",
       "      <td>0.0</td>\n",
       "      <td>0.0</td>\n",
       "      <td>0.0</td>\n",
       "      <td>0.0</td>\n",
       "      <td>0.0</td>\n",
       "      <td>0.0</td>\n",
       "      <td>1.0</td>\n",
       "      <td>0.0</td>\n",
       "    </tr>\n",
       "    <tr>\n",
       "      <th>142</th>\n",
       "      <td>0.0</td>\n",
       "      <td>0.0</td>\n",
       "      <td>1.0</td>\n",
       "      <td>0.0</td>\n",
       "      <td>0.0</td>\n",
       "      <td>0.0</td>\n",
       "      <td>0.0</td>\n",
       "      <td>0.0</td>\n",
       "      <td>0.0</td>\n",
       "      <td>1.0</td>\n",
       "      <td>0.0</td>\n",
       "      <td>0.0</td>\n",
       "      <td>0.0</td>\n",
       "      <td>0.0</td>\n",
       "      <td>1.0</td>\n",
       "      <td>0.0</td>\n",
       "    </tr>\n",
       "    <tr>\n",
       "      <th>143</th>\n",
       "      <td>0.0</td>\n",
       "      <td>1.0</td>\n",
       "      <td>0.0</td>\n",
       "      <td>0.0</td>\n",
       "      <td>0.0</td>\n",
       "      <td>0.0</td>\n",
       "      <td>1.0</td>\n",
       "      <td>0.0</td>\n",
       "      <td>0.0</td>\n",
       "      <td>0.0</td>\n",
       "      <td>0.0</td>\n",
       "      <td>0.0</td>\n",
       "      <td>0.0</td>\n",
       "      <td>0.0</td>\n",
       "      <td>0.0</td>\n",
       "      <td>1.0</td>\n",
       "    </tr>\n",
       "  </tbody>\n",
       "</table>\n",
       "<p>144 rows × 16 columns</p>\n",
       "</div>"
      ],
      "text/plain": [
       "     Company name_CTS  Company name_Infosys  Company name_TCS   \n",
       "0                 0.0                   0.0               1.0  \\\n",
       "1                 0.0                   1.0               0.0   \n",
       "2                 0.0                   0.0               1.0   \n",
       "3                 0.0                   1.0               0.0   \n",
       "4                 0.0                   0.0               1.0   \n",
       "..                ...                   ...               ...   \n",
       "139               0.0                   1.0               0.0   \n",
       "140               0.0                   0.0               1.0   \n",
       "141               0.0                   1.0               0.0   \n",
       "142               0.0                   0.0               1.0   \n",
       "143               0.0                   1.0               0.0   \n",
       "\n",
       "      Place of employee_Bhopal  Place of employee_Calcutta   \n",
       "0                          0.0                         0.0  \\\n",
       "1                          0.0                         0.0   \n",
       "2                          0.0                         1.0   \n",
       "3                          0.0                         0.0   \n",
       "4                          0.0                         0.0   \n",
       "..                         ...                         ...   \n",
       "139                        0.0                         0.0   \n",
       "140                        0.0                         1.0   \n",
       "141                        0.0                         0.0   \n",
       "142                        0.0                         0.0   \n",
       "143                        0.0                         0.0   \n",
       "\n",
       "     Place of employee_Chennai  Place of employee_Cochin   \n",
       "0                          1.0                       0.0  \\\n",
       "1                          0.0                       0.0   \n",
       "2                          0.0                       0.0   \n",
       "3                          0.0                       0.0   \n",
       "4                          0.0                       0.0   \n",
       "..                         ...                       ...   \n",
       "139                        0.0                       0.0   \n",
       "140                        0.0                       0.0   \n",
       "141                        0.0                       0.0   \n",
       "142                        0.0                       0.0   \n",
       "143                        0.0                       1.0   \n",
       "\n",
       "     Place of employee_Delhi  Place of employee_Hyderabad   \n",
       "0                        0.0                          0.0  \\\n",
       "1                        0.0                          0.0   \n",
       "2                        0.0                          0.0   \n",
       "3                        1.0                          0.0   \n",
       "4                        0.0                          0.0   \n",
       "..                       ...                          ...   \n",
       "139                      0.0                          0.0   \n",
       "140                      0.0                          0.0   \n",
       "141                      1.0                          0.0   \n",
       "142                      0.0                          0.0   \n",
       "143                      0.0                          0.0   \n",
       "\n",
       "     Place of employee_Mumbai  Place of employee_Nagpur   \n",
       "0                         0.0                       0.0  \\\n",
       "1                         1.0                       0.0   \n",
       "2                         0.0                       0.0   \n",
       "3                         0.0                       0.0   \n",
       "4                         1.0                       0.0   \n",
       "..                        ...                       ...   \n",
       "139                       1.0                       0.0   \n",
       "140                       0.0                       0.0   \n",
       "141                       0.0                       0.0   \n",
       "142                       1.0                       0.0   \n",
       "143                       0.0                       0.0   \n",
       "\n",
       "     Place of employee_Noida  Place of employee_Pondicherry   \n",
       "0                        0.0                            0.0  \\\n",
       "1                        0.0                            0.0   \n",
       "2                        0.0                            0.0   \n",
       "3                        0.0                            0.0   \n",
       "4                        0.0                            0.0   \n",
       "..                       ...                            ...   \n",
       "139                      0.0                            0.0   \n",
       "140                      0.0                            0.0   \n",
       "141                      0.0                            0.0   \n",
       "142                      0.0                            0.0   \n",
       "143                      0.0                            0.0   \n",
       "\n",
       "     Place of employee_Pune  Gender of employee_F  Gender of employee_M  \n",
       "0                       0.0                   0.0                   1.0  \n",
       "1                       0.0                   0.0                   1.0  \n",
       "2                       0.0                   0.0                   1.0  \n",
       "3                       0.0                   0.0                   1.0  \n",
       "4                       0.0                   0.0                   1.0  \n",
       "..                      ...                   ...                   ...  \n",
       "139                     0.0                   0.0                   1.0  \n",
       "140                     0.0                   1.0                   0.0  \n",
       "141                     0.0                   1.0                   0.0  \n",
       "142                     0.0                   1.0                   0.0  \n",
       "143                     0.0                   0.0                   1.0  \n",
       "\n",
       "[144 rows x 16 columns]"
      ]
     },
     "execution_count": 68,
     "metadata": {},
     "output_type": "execute_result"
    }
   ],
   "source": [
    "df_ND=pd.DataFrame(df_ar,columns=['Company name_CTS', 'Company name_Infosys', 'Company name_TCS', ' Place of employee_Bhopal', 'Place of employee_Calcutta','Place of employee_Chennai','Place of employee_Cochin','Place of employee_Delhi','Place of employee_Hyderabad','Place of employee_Mumbai','Place of employee_Nagpur','Place of employee_Noida','Place of employee_Pondicherry','Place of employee_Pune','Gender of employee_F','Gender of employee_M'])\n",
    "df_ND"
   ]
  },
  {
   "cell_type": "code",
   "execution_count": 70,
   "id": "b74c874f",
   "metadata": {},
   "outputs": [],
   "source": [
    "#saving cleaned dataset dfN in new file\n",
    "dfN.to_excel('Cleaned_Employee_dataset.xlsx',index=False)"
   ]
  },
  {
   "cell_type": "code",
   "execution_count": 71,
   "id": "19ddd039",
   "metadata": {},
   "outputs": [],
   "source": [
    "#label encoder"
   ]
  },
  {
   "cell_type": "code",
   "execution_count": 72,
   "id": "e2eba23b",
   "metadata": {},
   "outputs": [],
   "source": [
    "#import library\n",
    "from sklearn.preprocessing import LabelEncoder"
   ]
  },
  {
   "cell_type": "code",
   "execution_count": 73,
   "id": "818c3bf6",
   "metadata": {},
   "outputs": [
    {
     "name": "stdout",
     "output_type": "stream",
     "text": [
      "LabelEncoder()\n"
     ]
    }
   ],
   "source": [
    "l=LabelEncoder()\n",
    "print(l)"
   ]
  },
  {
   "cell_type": "code",
   "execution_count": 75,
   "id": "6755cf08",
   "metadata": {},
   "outputs": [],
   "source": [
    "df_label=pd.read_excel('Cleaned_Employee_dataset.xlsx')\n",
    "df_label['Company name']=l.fit_transform(df_label['Company name'])"
   ]
  },
  {
   "cell_type": "code",
   "execution_count": 76,
   "id": "d28909c5",
   "metadata": {},
   "outputs": [
    {
     "data": {
      "text/html": [
       "<div>\n",
       "<style scoped>\n",
       "    .dataframe tbody tr th:only-of-type {\n",
       "        vertical-align: middle;\n",
       "    }\n",
       "\n",
       "    .dataframe tbody tr th {\n",
       "        vertical-align: top;\n",
       "    }\n",
       "\n",
       "    .dataframe thead th {\n",
       "        text-align: right;\n",
       "    }\n",
       "</style>\n",
       "<table border=\"1\" class=\"dataframe\">\n",
       "  <thead>\n",
       "    <tr style=\"text-align: right;\">\n",
       "      <th></th>\n",
       "      <th>Company name</th>\n",
       "      <th>Age of employee</th>\n",
       "      <th>Salary of employee</th>\n",
       "      <th>Place of employee</th>\n",
       "      <th>Country of employee</th>\n",
       "      <th>Gender of employee</th>\n",
       "    </tr>\n",
       "  </thead>\n",
       "  <tbody>\n",
       "    <tr>\n",
       "      <th>0</th>\n",
       "      <td>2</td>\n",
       "      <td>20</td>\n",
       "      <td>5038.555556</td>\n",
       "      <td>Chennai</td>\n",
       "      <td>India</td>\n",
       "      <td>M</td>\n",
       "    </tr>\n",
       "    <tr>\n",
       "      <th>1</th>\n",
       "      <td>1</td>\n",
       "      <td>30</td>\n",
       "      <td>5038.555556</td>\n",
       "      <td>Mumbai</td>\n",
       "      <td>India</td>\n",
       "      <td>M</td>\n",
       "    </tr>\n",
       "    <tr>\n",
       "      <th>2</th>\n",
       "      <td>2</td>\n",
       "      <td>35</td>\n",
       "      <td>2300.000000</td>\n",
       "      <td>Calcutta</td>\n",
       "      <td>India</td>\n",
       "      <td>M</td>\n",
       "    </tr>\n",
       "    <tr>\n",
       "      <th>3</th>\n",
       "      <td>1</td>\n",
       "      <td>40</td>\n",
       "      <td>3000.000000</td>\n",
       "      <td>Delhi</td>\n",
       "      <td>India</td>\n",
       "      <td>M</td>\n",
       "    </tr>\n",
       "    <tr>\n",
       "      <th>4</th>\n",
       "      <td>2</td>\n",
       "      <td>23</td>\n",
       "      <td>4000.000000</td>\n",
       "      <td>Mumbai</td>\n",
       "      <td>India</td>\n",
       "      <td>M</td>\n",
       "    </tr>\n",
       "    <tr>\n",
       "      <th>...</th>\n",
       "      <td>...</td>\n",
       "      <td>...</td>\n",
       "      <td>...</td>\n",
       "      <td>...</td>\n",
       "      <td>...</td>\n",
       "      <td>...</td>\n",
       "    </tr>\n",
       "    <tr>\n",
       "      <th>139</th>\n",
       "      <td>1</td>\n",
       "      <td>22</td>\n",
       "      <td>8202.000000</td>\n",
       "      <td>Mumbai</td>\n",
       "      <td>India</td>\n",
       "      <td>M</td>\n",
       "    </tr>\n",
       "    <tr>\n",
       "      <th>140</th>\n",
       "      <td>2</td>\n",
       "      <td>33</td>\n",
       "      <td>9024.000000</td>\n",
       "      <td>Calcutta</td>\n",
       "      <td>India</td>\n",
       "      <td>F</td>\n",
       "    </tr>\n",
       "    <tr>\n",
       "      <th>141</th>\n",
       "      <td>1</td>\n",
       "      <td>44</td>\n",
       "      <td>4034.000000</td>\n",
       "      <td>Delhi</td>\n",
       "      <td>India</td>\n",
       "      <td>F</td>\n",
       "    </tr>\n",
       "    <tr>\n",
       "      <th>142</th>\n",
       "      <td>2</td>\n",
       "      <td>33</td>\n",
       "      <td>5034.000000</td>\n",
       "      <td>Mumbai</td>\n",
       "      <td>India</td>\n",
       "      <td>F</td>\n",
       "    </tr>\n",
       "    <tr>\n",
       "      <th>143</th>\n",
       "      <td>1</td>\n",
       "      <td>22</td>\n",
       "      <td>8202.000000</td>\n",
       "      <td>Cochin</td>\n",
       "      <td>India</td>\n",
       "      <td>M</td>\n",
       "    </tr>\n",
       "  </tbody>\n",
       "</table>\n",
       "<p>144 rows × 6 columns</p>\n",
       "</div>"
      ],
      "text/plain": [
       "     Company name  Age of employee  Salary of employee Place of employee   \n",
       "0               2               20         5038.555556           Chennai  \\\n",
       "1               1               30         5038.555556            Mumbai   \n",
       "2               2               35         2300.000000          Calcutta   \n",
       "3               1               40         3000.000000             Delhi   \n",
       "4               2               23         4000.000000            Mumbai   \n",
       "..            ...              ...                 ...               ...   \n",
       "139             1               22         8202.000000            Mumbai   \n",
       "140             2               33         9024.000000          Calcutta   \n",
       "141             1               44         4034.000000             Delhi   \n",
       "142             2               33         5034.000000            Mumbai   \n",
       "143             1               22         8202.000000            Cochin   \n",
       "\n",
       "    Country of employee Gender of employee  \n",
       "0                 India                  M  \n",
       "1                 India                  M  \n",
       "2                 India                  M  \n",
       "3                 India                  M  \n",
       "4                 India                  M  \n",
       "..                  ...                ...  \n",
       "139               India                  M  \n",
       "140               India                  F  \n",
       "141               India                  F  \n",
       "142               India                  F  \n",
       "143               India                  M  \n",
       "\n",
       "[144 rows x 6 columns]"
      ]
     },
     "execution_count": 76,
     "metadata": {},
     "output_type": "execute_result"
    }
   ],
   "source": [
    "df_label"
   ]
  },
  {
   "cell_type": "markdown",
   "id": "ed268959",
   "metadata": {},
   "source": [
    "### Feature scaling "
   ]
  },
  {
   "cell_type": "code",
   "execution_count": 77,
   "id": "f244605c",
   "metadata": {},
   "outputs": [
    {
     "data": {
      "text/html": [
       "<div>\n",
       "<style scoped>\n",
       "    .dataframe tbody tr th:only-of-type {\n",
       "        vertical-align: middle;\n",
       "    }\n",
       "\n",
       "    .dataframe tbody tr th {\n",
       "        vertical-align: top;\n",
       "    }\n",
       "\n",
       "    .dataframe thead th {\n",
       "        text-align: right;\n",
       "    }\n",
       "</style>\n",
       "<table border=\"1\" class=\"dataframe\">\n",
       "  <thead>\n",
       "    <tr style=\"text-align: right;\">\n",
       "      <th></th>\n",
       "      <th>Company name</th>\n",
       "      <th>Age of employee</th>\n",
       "      <th>Salary of employee</th>\n",
       "      <th>Place of employee</th>\n",
       "      <th>Country of employee</th>\n",
       "      <th>Gender of employee</th>\n",
       "    </tr>\n",
       "  </thead>\n",
       "  <tbody>\n",
       "    <tr>\n",
       "      <th>0</th>\n",
       "      <td>TCS</td>\n",
       "      <td>20.0</td>\n",
       "      <td>5038.555556</td>\n",
       "      <td>Chennai</td>\n",
       "      <td>India</td>\n",
       "      <td>M</td>\n",
       "    </tr>\n",
       "    <tr>\n",
       "      <th>1</th>\n",
       "      <td>Infosys</td>\n",
       "      <td>30.0</td>\n",
       "      <td>5038.555556</td>\n",
       "      <td>Mumbai</td>\n",
       "      <td>India</td>\n",
       "      <td>M</td>\n",
       "    </tr>\n",
       "    <tr>\n",
       "      <th>2</th>\n",
       "      <td>TCS</td>\n",
       "      <td>35.0</td>\n",
       "      <td>2300.000000</td>\n",
       "      <td>Calcutta</td>\n",
       "      <td>India</td>\n",
       "      <td>M</td>\n",
       "    </tr>\n",
       "    <tr>\n",
       "      <th>3</th>\n",
       "      <td>Infosys</td>\n",
       "      <td>40.0</td>\n",
       "      <td>3000.000000</td>\n",
       "      <td>Delhi</td>\n",
       "      <td>India</td>\n",
       "      <td>M</td>\n",
       "    </tr>\n",
       "    <tr>\n",
       "      <th>4</th>\n",
       "      <td>TCS</td>\n",
       "      <td>23.0</td>\n",
       "      <td>4000.000000</td>\n",
       "      <td>Mumbai</td>\n",
       "      <td>India</td>\n",
       "      <td>M</td>\n",
       "    </tr>\n",
       "    <tr>\n",
       "      <th>...</th>\n",
       "      <td>...</td>\n",
       "      <td>...</td>\n",
       "      <td>...</td>\n",
       "      <td>...</td>\n",
       "      <td>...</td>\n",
       "      <td>...</td>\n",
       "    </tr>\n",
       "    <tr>\n",
       "      <th>142</th>\n",
       "      <td>Infosys</td>\n",
       "      <td>22.0</td>\n",
       "      <td>8202.000000</td>\n",
       "      <td>Mumbai</td>\n",
       "      <td>India</td>\n",
       "      <td>M</td>\n",
       "    </tr>\n",
       "    <tr>\n",
       "      <th>143</th>\n",
       "      <td>TCS</td>\n",
       "      <td>33.0</td>\n",
       "      <td>9024.000000</td>\n",
       "      <td>Calcutta</td>\n",
       "      <td>India</td>\n",
       "      <td>F</td>\n",
       "    </tr>\n",
       "    <tr>\n",
       "      <th>145</th>\n",
       "      <td>Infosys</td>\n",
       "      <td>44.0</td>\n",
       "      <td>4034.000000</td>\n",
       "      <td>Delhi</td>\n",
       "      <td>India</td>\n",
       "      <td>F</td>\n",
       "    </tr>\n",
       "    <tr>\n",
       "      <th>146</th>\n",
       "      <td>TCS</td>\n",
       "      <td>33.0</td>\n",
       "      <td>5034.000000</td>\n",
       "      <td>Mumbai</td>\n",
       "      <td>India</td>\n",
       "      <td>F</td>\n",
       "    </tr>\n",
       "    <tr>\n",
       "      <th>147</th>\n",
       "      <td>Infosys</td>\n",
       "      <td>22.0</td>\n",
       "      <td>8202.000000</td>\n",
       "      <td>Cochin</td>\n",
       "      <td>India</td>\n",
       "      <td>M</td>\n",
       "    </tr>\n",
       "  </tbody>\n",
       "</table>\n",
       "<p>144 rows × 6 columns</p>\n",
       "</div>"
      ],
      "text/plain": [
       "    Company name  Age of employee  Salary of employee Place of employee   \n",
       "0            TCS             20.0         5038.555556           Chennai  \\\n",
       "1        Infosys             30.0         5038.555556            Mumbai   \n",
       "2            TCS             35.0         2300.000000          Calcutta   \n",
       "3        Infosys             40.0         3000.000000             Delhi   \n",
       "4            TCS             23.0         4000.000000            Mumbai   \n",
       "..           ...              ...                 ...               ...   \n",
       "142      Infosys             22.0         8202.000000            Mumbai   \n",
       "143          TCS             33.0         9024.000000          Calcutta   \n",
       "145      Infosys             44.0         4034.000000             Delhi   \n",
       "146          TCS             33.0         5034.000000            Mumbai   \n",
       "147      Infosys             22.0         8202.000000            Cochin   \n",
       "\n",
       "    Country of employee Gender of employee  \n",
       "0                 India                  M  \n",
       "1                 India                  M  \n",
       "2                 India                  M  \n",
       "3                 India                  M  \n",
       "4                 India                  M  \n",
       "..                  ...                ...  \n",
       "142               India                  M  \n",
       "143               India                  F  \n",
       "145               India                  F  \n",
       "146               India                  F  \n",
       "147               India                  M  \n",
       "\n",
       "[144 rows x 6 columns]"
      ]
     },
     "execution_count": 77,
     "metadata": {},
     "output_type": "execute_result"
    }
   ],
   "source": [
    "#here we are standardising the columns having numerical values before ML model generation\n",
    "#cleaned dataset is dfN\n",
    "dfN"
   ]
  },
  {
   "cell_type": "code",
   "execution_count": 78,
   "id": "0a54ec4f",
   "metadata": {},
   "outputs": [],
   "source": [
    "#import library\n",
    "from sklearn.preprocessing import StandardScaler\n",
    "\n",
    "# Select the columns  to scale\n",
    "cols_to_scale = ['Age of employee', 'Salary of employee']\n",
    "\n",
    "# Creating a StandardScaler object\n",
    "scaler = StandardScaler()\n",
    "\n",
    "# Fit the scaler to the selected columns\n",
    "scaler.fit(dfN[cols_to_scale])\n",
    "\n",
    "# Transform the selected columns using the scaler\n",
    "dfN[cols_to_scale] = scaler.transform(dfN[cols_to_scale])\n"
   ]
  },
  {
   "cell_type": "code",
   "execution_count": 79,
   "id": "c1c19584",
   "metadata": {},
   "outputs": [
    {
     "data": {
      "text/html": [
       "<div>\n",
       "<style scoped>\n",
       "    .dataframe tbody tr th:only-of-type {\n",
       "        vertical-align: middle;\n",
       "    }\n",
       "\n",
       "    .dataframe tbody tr th {\n",
       "        vertical-align: top;\n",
       "    }\n",
       "\n",
       "    .dataframe thead th {\n",
       "        text-align: right;\n",
       "    }\n",
       "</style>\n",
       "<table border=\"1\" class=\"dataframe\">\n",
       "  <thead>\n",
       "    <tr style=\"text-align: right;\">\n",
       "      <th></th>\n",
       "      <th>Company name</th>\n",
       "      <th>Age of employee</th>\n",
       "      <th>Salary of employee</th>\n",
       "      <th>Place of employee</th>\n",
       "      <th>Country of employee</th>\n",
       "      <th>Gender of employee</th>\n",
       "    </tr>\n",
       "  </thead>\n",
       "  <tbody>\n",
       "    <tr>\n",
       "      <th>0</th>\n",
       "      <td>TCS</td>\n",
       "      <td>-1.484676</td>\n",
       "      <td>-0.087135</td>\n",
       "      <td>Chennai</td>\n",
       "      <td>India</td>\n",
       "      <td>M</td>\n",
       "    </tr>\n",
       "    <tr>\n",
       "      <th>1</th>\n",
       "      <td>Infosys</td>\n",
       "      <td>-0.267174</td>\n",
       "      <td>-0.087135</td>\n",
       "      <td>Mumbai</td>\n",
       "      <td>India</td>\n",
       "      <td>M</td>\n",
       "    </tr>\n",
       "    <tr>\n",
       "      <th>2</th>\n",
       "      <td>TCS</td>\n",
       "      <td>0.341577</td>\n",
       "      <td>-1.246647</td>\n",
       "      <td>Calcutta</td>\n",
       "      <td>India</td>\n",
       "      <td>M</td>\n",
       "    </tr>\n",
       "    <tr>\n",
       "      <th>3</th>\n",
       "      <td>Infosys</td>\n",
       "      <td>0.950328</td>\n",
       "      <td>-0.950265</td>\n",
       "      <td>Delhi</td>\n",
       "      <td>India</td>\n",
       "      <td>M</td>\n",
       "    </tr>\n",
       "    <tr>\n",
       "      <th>4</th>\n",
       "      <td>TCS</td>\n",
       "      <td>-1.119426</td>\n",
       "      <td>-0.526862</td>\n",
       "      <td>Mumbai</td>\n",
       "      <td>India</td>\n",
       "      <td>M</td>\n",
       "    </tr>\n",
       "    <tr>\n",
       "      <th>...</th>\n",
       "      <td>...</td>\n",
       "      <td>...</td>\n",
       "      <td>...</td>\n",
       "      <td>...</td>\n",
       "      <td>...</td>\n",
       "      <td>...</td>\n",
       "    </tr>\n",
       "    <tr>\n",
       "      <th>142</th>\n",
       "      <td>Infosys</td>\n",
       "      <td>-1.241176</td>\n",
       "      <td>1.252276</td>\n",
       "      <td>Mumbai</td>\n",
       "      <td>India</td>\n",
       "      <td>M</td>\n",
       "    </tr>\n",
       "    <tr>\n",
       "      <th>143</th>\n",
       "      <td>TCS</td>\n",
       "      <td>0.098077</td>\n",
       "      <td>1.600313</td>\n",
       "      <td>Calcutta</td>\n",
       "      <td>India</td>\n",
       "      <td>F</td>\n",
       "    </tr>\n",
       "    <tr>\n",
       "      <th>145</th>\n",
       "      <td>Infosys</td>\n",
       "      <td>1.437329</td>\n",
       "      <td>-0.512467</td>\n",
       "      <td>Delhi</td>\n",
       "      <td>India</td>\n",
       "      <td>F</td>\n",
       "    </tr>\n",
       "    <tr>\n",
       "      <th>146</th>\n",
       "      <td>TCS</td>\n",
       "      <td>0.098077</td>\n",
       "      <td>-0.089064</td>\n",
       "      <td>Mumbai</td>\n",
       "      <td>India</td>\n",
       "      <td>F</td>\n",
       "    </tr>\n",
       "    <tr>\n",
       "      <th>147</th>\n",
       "      <td>Infosys</td>\n",
       "      <td>-1.241176</td>\n",
       "      <td>1.252276</td>\n",
       "      <td>Cochin</td>\n",
       "      <td>India</td>\n",
       "      <td>M</td>\n",
       "    </tr>\n",
       "  </tbody>\n",
       "</table>\n",
       "<p>144 rows × 6 columns</p>\n",
       "</div>"
      ],
      "text/plain": [
       "    Company name  Age of employee  Salary of employee Place of employee   \n",
       "0            TCS        -1.484676           -0.087135           Chennai  \\\n",
       "1        Infosys        -0.267174           -0.087135            Mumbai   \n",
       "2            TCS         0.341577           -1.246647          Calcutta   \n",
       "3        Infosys         0.950328           -0.950265             Delhi   \n",
       "4            TCS        -1.119426           -0.526862            Mumbai   \n",
       "..           ...              ...                 ...               ...   \n",
       "142      Infosys        -1.241176            1.252276            Mumbai   \n",
       "143          TCS         0.098077            1.600313          Calcutta   \n",
       "145      Infosys         1.437329           -0.512467             Delhi   \n",
       "146          TCS         0.098077           -0.089064            Mumbai   \n",
       "147      Infosys        -1.241176            1.252276            Cochin   \n",
       "\n",
       "    Country of employee Gender of employee  \n",
       "0                 India                  M  \n",
       "1                 India                  M  \n",
       "2                 India                  M  \n",
       "3                 India                  M  \n",
       "4                 India                  M  \n",
       "..                  ...                ...  \n",
       "142               India                  M  \n",
       "143               India                  F  \n",
       "145               India                  F  \n",
       "146               India                  F  \n",
       "147               India                  M  \n",
       "\n",
       "[144 rows x 6 columns]"
      ]
     },
     "execution_count": 79,
     "metadata": {},
     "output_type": "execute_result"
    }
   ],
   "source": [
    "dfN"
   ]
  },
  {
   "cell_type": "code",
   "execution_count": null,
   "id": "9974a1dc",
   "metadata": {},
   "outputs": [],
   "source": [
    "# -The End-"
   ]
  }
 ],
 "metadata": {
  "kernelspec": {
   "display_name": "Python 3 (ipykernel)",
   "language": "python",
   "name": "python3"
  },
  "language_info": {
   "codemirror_mode": {
    "name": "ipython",
    "version": 3
   },
   "file_extension": ".py",
   "mimetype": "text/x-python",
   "name": "python",
   "nbconvert_exporter": "python",
   "pygments_lexer": "ipython3",
   "version": "3.11.1"
  }
 },
 "nbformat": 4,
 "nbformat_minor": 5
}
